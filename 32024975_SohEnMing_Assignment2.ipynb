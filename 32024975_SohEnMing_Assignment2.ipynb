{
 "cells": [
  {
   "cell_type": "markdown",
   "id": "2f5455d2",
   "metadata": {},
   "source": [
    "# <div align = \"right\"> FIT 1043 Assignment 2 Specifications </div> \n",
    "<div align = \"right\"> Unit Code: FIT1043 </div> \n",
    "<div align = \"right\"> Name: Soh En Ming <br> Student ID: 32024975 </div> \n",
    "<div align = \"right\"> Due Date: 17th September 2021 </div>"
   ]
  },
  {
   "cell_type": "markdown",
   "id": "dfb25df4",
   "metadata": {},
   "source": [
    "# General Introduction for assignment 2"
   ]
  },
  {
   "cell_type": "markdown",
   "id": "5a03e501",
   "metadata": {},
   "source": [
    "This assignment is called FIT 1043 Assignment 2 Specifications and it is the 2nd assignment for this semester. The objective of this assignment is to conduct predictive analytics through machine learning. It is worth a total of 40 marks and has a weightage of 20% overall. Similar to the first assignment it is held in Jupyter Notebook and the language Python programming is needed. The assignment contains 2 questions overall with each of the questions containing 1 data set, 4 sub questions and in each of those sub questions it has been split to different parts. Question 1 will be mainly focused on the topics of Supervised machine learning and Classification whilst for Question 2 it will be mainly focused on the topics Supervised Learning and Regression."
   ]
  },
  {
   "cell_type": "markdown",
   "id": "72785e23",
   "metadata": {},
   "source": [
    "# <u>Question 1</u>"
   ]
  },
  {
   "cell_type": "markdown",
   "id": "e52826e7",
   "metadata": {},
   "source": [
    "## Introduction "
   ]
  },
  {
   "cell_type": "markdown",
   "id": "c63041d2",
   "metadata": {},
   "source": [
    "### Part A"
   ]
  },
  {
   "cell_type": "markdown",
   "id": "c8b1af70",
   "metadata": {},
   "source": [
    "In this assignment there is 2 questions given, since this is question 1 I will be explaining on this question. In question 1 it is split into 4 different sub questions. Also the data set for this question is 'loan_data.csv'\n",
    "\n",
    "Sub question 1: Introduction\n",
    "This sub question contains 4 sub parts that require an introduction to be made, importing necessary libraries and creating plots that compare between variables. \n",
    "\n",
    "Sub question 2: Supervised Learning\n",
    "For this sub question it is split into 3 sub parts which requires explantion of different concepts for supervised learning for example, supervised machine learning and notion labelled data. For the other sub parts, it is required to seperate the features and label from the data set then use those seperate features and label to create a data set for training and testing.\n",
    "\n",
    "Sub question 3: Classification\n",
    "For this sub question it is split into 3 sub parts which contains questions like explaning the difference between classification, train a decion tree and predict the testing dataset.\n",
    "\n",
    "Sub question 4: Conclusion\n",
    "For this sub question it is only split into 1 sub parts and what's required is to conclude the question by comparison between the investigated classfiers and explain which is better."
   ]
  },
  {
   "cell_type": "markdown",
   "id": "0c25c622",
   "metadata": {},
   "source": [
    "### Part B"
   ]
  },
  {
   "cell_type": "markdown",
   "id": "de7e08f2",
   "metadata": {},
   "source": [
    "In order for the assignment to be completed, the necessary libraries that are required to be imported are, pandas and matplotlib. The reason why importing libraries are neccesary when programming is because libraries are a vast collection of functions and methods which help perform different computational problems. For example pandas. pandas is a library which provides the user with data structure called DataFrame, this will be able to allow the user to manage and manipulate large tables. Another example of a necessary library is matplotlib. matplotlib is commonly used in Python to plot data, some examples include Histrograms, Bar Chart, Box Plot and many more. Therefore, the first step is to import these libraries which is shown in the code below."
   ]
  },
  {
   "cell_type": "code",
   "execution_count": 1,
   "id": "21127bdf",
   "metadata": {},
   "outputs": [],
   "source": [
    "import pandas as pd\n",
    "import matplotlib.pyplot as plt"
   ]
  },
  {
   "cell_type": "markdown",
   "id": "5c57cfdc",
   "metadata": {},
   "source": [
    "In order to read the dataset file 'loan_data.csv', we need to use the function pd.read_csv() which bascially does the function it says which is read the csv file."
   ]
  },
  {
   "cell_type": "code",
   "execution_count": 2,
   "id": "94583868",
   "metadata": {},
   "outputs": [],
   "source": [
    "loan_data = pd.read_csv('loan_data.csv')"
   ]
  },
  {
   "cell_type": "markdown",
   "id": "f669f49f",
   "metadata": {},
   "source": [
    ".head() function is used to show the first 5 lines in the file 'loan_data.csv'"
   ]
  },
  {
   "cell_type": "code",
   "execution_count": 3,
   "id": "211b7ce8",
   "metadata": {
    "scrolled": true
   },
   "outputs": [
    {
     "data": {
      "text/html": [
       "<div>\n",
       "<style scoped>\n",
       "    .dataframe tbody tr th:only-of-type {\n",
       "        vertical-align: middle;\n",
       "    }\n",
       "\n",
       "    .dataframe tbody tr th {\n",
       "        vertical-align: top;\n",
       "    }\n",
       "\n",
       "    .dataframe thead th {\n",
       "        text-align: right;\n",
       "    }\n",
       "</style>\n",
       "<table border=\"1\" class=\"dataframe\">\n",
       "  <thead>\n",
       "    <tr style=\"text-align: right;\">\n",
       "      <th></th>\n",
       "      <th>credit.policy</th>\n",
       "      <th>int.rate</th>\n",
       "      <th>installment</th>\n",
       "      <th>log.annual.inc</th>\n",
       "      <th>dti</th>\n",
       "      <th>fico</th>\n",
       "      <th>days.with.cr.line</th>\n",
       "      <th>revol.bal</th>\n",
       "      <th>revol.util</th>\n",
       "      <th>inq.last.6mths</th>\n",
       "      <th>delinq.2yrs</th>\n",
       "      <th>pub.rec</th>\n",
       "      <th>not.fully.paid</th>\n",
       "    </tr>\n",
       "  </thead>\n",
       "  <tbody>\n",
       "    <tr>\n",
       "      <th>0</th>\n",
       "      <td>1</td>\n",
       "      <td>0.1189</td>\n",
       "      <td>829.10</td>\n",
       "      <td>11.350407</td>\n",
       "      <td>19.48</td>\n",
       "      <td>737</td>\n",
       "      <td>5639.958333</td>\n",
       "      <td>28854</td>\n",
       "      <td>52.1</td>\n",
       "      <td>0</td>\n",
       "      <td>0</td>\n",
       "      <td>0</td>\n",
       "      <td>0</td>\n",
       "    </tr>\n",
       "    <tr>\n",
       "      <th>1</th>\n",
       "      <td>1</td>\n",
       "      <td>0.1071</td>\n",
       "      <td>228.22</td>\n",
       "      <td>11.082143</td>\n",
       "      <td>14.29</td>\n",
       "      <td>707</td>\n",
       "      <td>2760.000000</td>\n",
       "      <td>33623</td>\n",
       "      <td>76.7</td>\n",
       "      <td>0</td>\n",
       "      <td>0</td>\n",
       "      <td>0</td>\n",
       "      <td>0</td>\n",
       "    </tr>\n",
       "    <tr>\n",
       "      <th>2</th>\n",
       "      <td>1</td>\n",
       "      <td>0.1357</td>\n",
       "      <td>366.86</td>\n",
       "      <td>10.373491</td>\n",
       "      <td>11.63</td>\n",
       "      <td>682</td>\n",
       "      <td>4710.000000</td>\n",
       "      <td>3511</td>\n",
       "      <td>25.6</td>\n",
       "      <td>1</td>\n",
       "      <td>0</td>\n",
       "      <td>0</td>\n",
       "      <td>0</td>\n",
       "    </tr>\n",
       "    <tr>\n",
       "      <th>3</th>\n",
       "      <td>1</td>\n",
       "      <td>0.1008</td>\n",
       "      <td>162.34</td>\n",
       "      <td>11.350407</td>\n",
       "      <td>8.10</td>\n",
       "      <td>712</td>\n",
       "      <td>2699.958333</td>\n",
       "      <td>33667</td>\n",
       "      <td>73.2</td>\n",
       "      <td>1</td>\n",
       "      <td>0</td>\n",
       "      <td>0</td>\n",
       "      <td>0</td>\n",
       "    </tr>\n",
       "    <tr>\n",
       "      <th>4</th>\n",
       "      <td>1</td>\n",
       "      <td>0.1426</td>\n",
       "      <td>102.92</td>\n",
       "      <td>11.299732</td>\n",
       "      <td>14.97</td>\n",
       "      <td>667</td>\n",
       "      <td>4066.000000</td>\n",
       "      <td>4740</td>\n",
       "      <td>39.5</td>\n",
       "      <td>0</td>\n",
       "      <td>1</td>\n",
       "      <td>0</td>\n",
       "      <td>0</td>\n",
       "    </tr>\n",
       "  </tbody>\n",
       "</table>\n",
       "</div>"
      ],
      "text/plain": [
       "   credit.policy  int.rate  installment  log.annual.inc    dti  fico  \\\n",
       "0              1    0.1189       829.10       11.350407  19.48   737   \n",
       "1              1    0.1071       228.22       11.082143  14.29   707   \n",
       "2              1    0.1357       366.86       10.373491  11.63   682   \n",
       "3              1    0.1008       162.34       11.350407   8.10   712   \n",
       "4              1    0.1426       102.92       11.299732  14.97   667   \n",
       "\n",
       "   days.with.cr.line  revol.bal  revol.util  inq.last.6mths  delinq.2yrs  \\\n",
       "0        5639.958333      28854        52.1               0            0   \n",
       "1        2760.000000      33623        76.7               0            0   \n",
       "2        4710.000000       3511        25.6               1            0   \n",
       "3        2699.958333      33667        73.2               1            0   \n",
       "4        4066.000000       4740        39.5               0            1   \n",
       "\n",
       "   pub.rec  not.fully.paid  \n",
       "0        0               0  \n",
       "1        0               0  \n",
       "2        0               0  \n",
       "3        0               0  \n",
       "4        0               0  "
      ]
     },
     "execution_count": 3,
     "metadata": {},
     "output_type": "execute_result"
    }
   ],
   "source": [
    "loan_data.head()"
   ]
  },
  {
   "cell_type": "markdown",
   "id": "74f10ad2",
   "metadata": {},
   "source": [
    ".tail() function is used to show the last 5 lines in the file 'loan_data.csv'"
   ]
  },
  {
   "cell_type": "code",
   "execution_count": 4,
   "id": "b3365b69",
   "metadata": {},
   "outputs": [
    {
     "data": {
      "text/html": [
       "<div>\n",
       "<style scoped>\n",
       "    .dataframe tbody tr th:only-of-type {\n",
       "        vertical-align: middle;\n",
       "    }\n",
       "\n",
       "    .dataframe tbody tr th {\n",
       "        vertical-align: top;\n",
       "    }\n",
       "\n",
       "    .dataframe thead th {\n",
       "        text-align: right;\n",
       "    }\n",
       "</style>\n",
       "<table border=\"1\" class=\"dataframe\">\n",
       "  <thead>\n",
       "    <tr style=\"text-align: right;\">\n",
       "      <th></th>\n",
       "      <th>credit.policy</th>\n",
       "      <th>int.rate</th>\n",
       "      <th>installment</th>\n",
       "      <th>log.annual.inc</th>\n",
       "      <th>dti</th>\n",
       "      <th>fico</th>\n",
       "      <th>days.with.cr.line</th>\n",
       "      <th>revol.bal</th>\n",
       "      <th>revol.util</th>\n",
       "      <th>inq.last.6mths</th>\n",
       "      <th>delinq.2yrs</th>\n",
       "      <th>pub.rec</th>\n",
       "      <th>not.fully.paid</th>\n",
       "    </tr>\n",
       "  </thead>\n",
       "  <tbody>\n",
       "    <tr>\n",
       "      <th>9573</th>\n",
       "      <td>0</td>\n",
       "      <td>0.1461</td>\n",
       "      <td>344.76</td>\n",
       "      <td>12.180755</td>\n",
       "      <td>10.39</td>\n",
       "      <td>672</td>\n",
       "      <td>10474.000000</td>\n",
       "      <td>215372</td>\n",
       "      <td>82.1</td>\n",
       "      <td>2</td>\n",
       "      <td>0</td>\n",
       "      <td>0</td>\n",
       "      <td>1</td>\n",
       "    </tr>\n",
       "    <tr>\n",
       "      <th>9574</th>\n",
       "      <td>0</td>\n",
       "      <td>0.1253</td>\n",
       "      <td>257.70</td>\n",
       "      <td>11.141862</td>\n",
       "      <td>0.21</td>\n",
       "      <td>722</td>\n",
       "      <td>4380.000000</td>\n",
       "      <td>184</td>\n",
       "      <td>1.1</td>\n",
       "      <td>5</td>\n",
       "      <td>0</td>\n",
       "      <td>0</td>\n",
       "      <td>1</td>\n",
       "    </tr>\n",
       "    <tr>\n",
       "      <th>9575</th>\n",
       "      <td>0</td>\n",
       "      <td>0.1071</td>\n",
       "      <td>97.81</td>\n",
       "      <td>10.596635</td>\n",
       "      <td>13.09</td>\n",
       "      <td>687</td>\n",
       "      <td>3450.041667</td>\n",
       "      <td>10036</td>\n",
       "      <td>82.9</td>\n",
       "      <td>8</td>\n",
       "      <td>0</td>\n",
       "      <td>0</td>\n",
       "      <td>1</td>\n",
       "    </tr>\n",
       "    <tr>\n",
       "      <th>9576</th>\n",
       "      <td>0</td>\n",
       "      <td>0.1600</td>\n",
       "      <td>351.58</td>\n",
       "      <td>10.819778</td>\n",
       "      <td>19.18</td>\n",
       "      <td>692</td>\n",
       "      <td>1800.000000</td>\n",
       "      <td>0</td>\n",
       "      <td>3.2</td>\n",
       "      <td>5</td>\n",
       "      <td>0</td>\n",
       "      <td>0</td>\n",
       "      <td>1</td>\n",
       "    </tr>\n",
       "    <tr>\n",
       "      <th>9577</th>\n",
       "      <td>0</td>\n",
       "      <td>0.1392</td>\n",
       "      <td>853.43</td>\n",
       "      <td>11.264464</td>\n",
       "      <td>16.28</td>\n",
       "      <td>732</td>\n",
       "      <td>4740.000000</td>\n",
       "      <td>37879</td>\n",
       "      <td>57.0</td>\n",
       "      <td>6</td>\n",
       "      <td>0</td>\n",
       "      <td>0</td>\n",
       "      <td>1</td>\n",
       "    </tr>\n",
       "  </tbody>\n",
       "</table>\n",
       "</div>"
      ],
      "text/plain": [
       "      credit.policy  int.rate  installment  log.annual.inc    dti  fico  \\\n",
       "9573              0    0.1461       344.76       12.180755  10.39   672   \n",
       "9574              0    0.1253       257.70       11.141862   0.21   722   \n",
       "9575              0    0.1071        97.81       10.596635  13.09   687   \n",
       "9576              0    0.1600       351.58       10.819778  19.18   692   \n",
       "9577              0    0.1392       853.43       11.264464  16.28   732   \n",
       "\n",
       "      days.with.cr.line  revol.bal  revol.util  inq.last.6mths  delinq.2yrs  \\\n",
       "9573       10474.000000     215372        82.1               2            0   \n",
       "9574        4380.000000        184         1.1               5            0   \n",
       "9575        3450.041667      10036        82.9               8            0   \n",
       "9576        1800.000000          0         3.2               5            0   \n",
       "9577        4740.000000      37879        57.0               6            0   \n",
       "\n",
       "      pub.rec  not.fully.paid  \n",
       "9573        0               1  \n",
       "9574        0               1  \n",
       "9575        0               1  \n",
       "9576        0               1  \n",
       "9577        0               1  "
      ]
     },
     "execution_count": 4,
     "metadata": {},
     "output_type": "execute_result"
    }
   ],
   "source": [
    "loan_data.tail()"
   ]
  },
  {
   "cell_type": "markdown",
   "id": "5a8413e2",
   "metadata": {},
   "source": [
    "From the data read from using the function of head which reads the first 5 lines and tail which reads the last 5 lines. We can see that the trend in column int.rate which stands for interest rates, doesn't pass 0.1700 or 17% from neither the first 5 lines and last 5 lines. This is good as the higher the intrest rate the more risky. Another infomation gathered is that the log.annual.inc column roughly ranges from 10-12 which means that the log for self reported annual income of the borrower isn't fluactuating. Another trend seen in the dataset is that the higher the unpaid balance(revol.bal) is the more the higher the utilization rate(revol.util) is. Lastly the credit score(fico) of each borrower is roughly similar with most being fair(630-690) and good(690-720). "
   ]
  },
  {
   "cell_type": "markdown",
   "id": "9bbd2cf5",
   "metadata": {},
   "source": [
    "### Part C"
   ]
  },
  {
   "cell_type": "markdown",
   "id": "4c0b7e21",
   "metadata": {},
   "source": [
    "In order to create a histogram we need the library matplotlib.pyplot which has been imported in part b above. Next, as stated in the question we need create the histogram on the column not.fully.paid on top of each other against column fico.\n",
    "\n",
    "In the code below, what I need to do first is to extract the specific rows to create a dictonary. So how I will do that is through using \"loan_data.loc[loan_data['not.fully.paid']==0]['fico']\" which basically fetches the rows from the loan_data where the \"not.fully.paid\" column is 0 and only extract the value at column \"fico\". This code was repeated for the number 1 instead of 0. After that, the the data frame for bars was instanstiated into new_loan_data then following the steps needed to make the histogram how it looks below."
   ]
  },
  {
   "cell_type": "code",
   "execution_count": 6,
   "id": "2ffc909e",
   "metadata": {},
   "outputs": [
    {
     "data": {
      "image/png": "[encoded data removed]",
      "text/plain": [
       "<Figure size 1080x720 with 1 Axes>"
      ]
     },
     "metadata": {
      "needs_background": "light"
     },
     "output_type": "display_data"
    }
   ],
   "source": [
    "import pandas as pd\n",
    "import matplotlib.pyplot as plt\n",
    "loan_data = pd.read_csv('loan_data.csv')\n",
    "\n",
    "bars={'0 = Fully Paid': loan_data.loc[loan_data['not.fully.paid']==0]['fico'],\n",
    "      '1 = Not Fully Paid': loan_data.loc[loan_data['not.fully.paid']==1]['fico']}\n",
    "\n",
    "new_loan_data=pd.DataFrame(bars)\n",
    "new_loan_data.plot.hist(stacked=True)\n",
    "plt.rcParams['figure.figsize'] = [15, 10]\n",
    "plt.xlabel('Fico')\n",
    "plt.show()"
   ]
  },
  {
   "cell_type": "markdown",
   "id": "d7b29400",
   "metadata": {},
   "source": [
    "### Part D"
   ]
  },
  {
   "cell_type": "markdown",
   "id": "13ac0fe6",
   "metadata": {},
   "source": [
    "For this question, it asked for a plot of any type to be created to show the relationship between fico and the interest rate. \n",
    "\n",
    "What I implemented is scatterplot. The reason for using scatterplot is because it is one of the best plots to show the data display between two numerical values. The code below is what I used to implement the scatterplot. Although it was not stated as which would be the x axis or y axis. I decided to choose fico as the x axis as it an independent variable whereas interest rate is the y axis since it dependent variable. Using those variables I used the function plt.scatter() to create the scatterplot, plt.rcParams[] to change the size of the plot and added the labels for x, y and title."
   ]
  },
  {
   "cell_type": "code",
   "execution_count": 8,
   "id": "93408cac",
   "metadata": {},
   "outputs": [
    {
     "data": {
      "image/png": "[encoded data removed]",
      "text/plain": [
       "<Figure size 2160x1440 with 1 Axes>"
      ]
     },
     "metadata": {
      "needs_background": "light"
     },
     "output_type": "display_data"
    }
   ],
   "source": [
    "import pandas as pd\n",
    "import matplotlib.pyplot as plt\n",
    "loan_data = pd.read_csv('loan_data.csv')\n",
    "plt.scatter(loan_data['fico'], loan_data['int.rate'])\n",
    "plt.rcParams['figure.figsize'] = [30, 20]\n",
    "plt.title('Relationship between fico and Interest rate', fontsize=25)\n",
    "plt.xlabel('Fico', fontsize=25)\n",
    "plt.ylabel('Interest Rate', fontsize=25)\n",
    "plt.show()"
   ]
  },
  {
   "cell_type": "markdown",
   "id": "5c9ed735",
   "metadata": {},
   "source": [
    "As seen in the scatterplot shown above, the relationship between fico and interest rate can be seen. The relationship that can be seen in the scatterplot above is that it is negative correlation. The reason I came to such conclusion is that when the y variables decrease the x variable increases which are signs of a negative correlation. Therefore, the less the interest rate there is, the higher the credit score(fico) the borrower has. This also makes sense in a real life perspective as the higher credit score you have, the more the lender's confidence is hence the lower the interest rate. Therefore, it matches with the relationship shown in the scatterplot above."
   ]
  },
  {
   "cell_type": "markdown",
   "id": "3b81ab30",
   "metadata": {},
   "source": [
    "## Supervised Learning"
   ]
  },
  {
   "cell_type": "markdown",
   "id": "bb75dd55",
   "metadata": {},
   "source": [
    "### Part A"
   ]
  },
  {
   "cell_type": "markdown",
   "id": "be5c41a3",
   "metadata": {},
   "source": [
    "Supervised machine learning or sometimes called supervised learning is a subcategory of machine learning. How supervised learning works is where a computer algorithim is trained with many different datasets that includes different certain inputs that can produce this correct output. The goal for supervised machine learning is to train the algorithim to a point where it can detect between the different inputs and outputs till a point where it has sucessfully minimized most errors. \n",
    "\n",
    "Supervised machine learning is good for two types of problems. Those being Classification (Uses an algorithim that aims to sort inputs based on the labeled data it was trained on into a given number of classes or categories) and Regression (This is used to understand the bond or relationship between the input and output data or independent and dependent variables). \n",
    "\n",
    "The notion of labelled data is used by supervised machine learning. Labelled data acts as the orientation for data training and testing exercises. Labelled data can also be used by supervised learning by taking unlabelled data which contains some meaningful labels or tags to the observations. How a labelled data set works is through obtaining a labelled datasheet/datasets where the supervised machine learning can scan the data so in the future if an unlabelled data was shown to the algorithim, it would be able to guess what label belongs to the unlabelled data.\n",
    "\n",
    "Lastly, training and testing datasets have their own seperate purposes. Training datasets is basically a data that helps build the machine learning algorithim (example, a machine learning algorithim analyses a training dataset which follows with the classification of the inputs and outputs which when done repeats again. This is so, after many attemps the algorithim has sucessfully memorised for the different inputs and outputs). \n",
    "\n",
    "On the other side, testing datasets has a completely different purpose. As seen in the name instead of training it is testing therefore, this is the process that happens after the training where the model has been built. The purpose of test datasets is to evaluate and validate whether the performance of the model can make accurate predictions. "
   ]
  },
  {
   "cell_type": "markdown",
   "id": "35746eb5",
   "metadata": {},
   "source": [
    "### Reference links used for this Part A\n",
    "\n",
    "Supervised machine learning <br>\n",
    "https://www.ibm.com/cloud/learn/supervised-learning <br>\n",
    "https://searchenterpriseai.techtarget.com/definition/supervised-learning <br>\n",
    "https://machinelearningmastery.com/supervised-and-unsupervised-machine-learning-algorithms/ \n",
    "\n",
    "The notion of labelled data used by supervised machine learning <br>\n",
    "https://stackoverflow.com/questions/19170603/what-is-the-difference-between-labeled-and-unlabeled-data <br>\n",
    "https://www.techopedia.com/definition/33695/labeled-data\n",
    "https://livebook.manning.com/book/grokking-machine-learning/2-1-what-is-the-difference-between-labelled-and-unlabelled-data-/v-4/26\n",
    "\n",
    "Training and testing datasets <br>\n",
    "https://lhessani-sajid.medium.com/what-is-the-difference-between-training-and-test-dataset-91308080a4e8 <br>\n",
    "https://www.applause.com/blog/training-data-validation-data-vs-test-data <br>\n",
    "https://www.tutorialspoint.com/machine_learning_with_python/machine_learning_with_python_training_test_data.htm\n",
    "\n",
    "All of the links above, they were all used in helping me gather information about the question and where I paraphased from"
   ]
  },
  {
   "cell_type": "markdown",
   "id": "07774c25",
   "metadata": {},
   "source": [
    "### Part B"
   ]
  },
  {
   "cell_type": "code",
   "execution_count": 9,
   "id": "fb088e61",
   "metadata": {},
   "outputs": [
    {
     "data": {
      "text/html": [
       "<div>\n",
       "<style scoped>\n",
       "    .dataframe tbody tr th:only-of-type {\n",
       "        vertical-align: middle;\n",
       "    }\n",
       "\n",
       "    .dataframe tbody tr th {\n",
       "        vertical-align: top;\n",
       "    }\n",
       "\n",
       "    .dataframe thead th {\n",
       "        text-align: right;\n",
       "    }\n",
       "</style>\n",
       "<table border=\"1\" class=\"dataframe\">\n",
       "  <thead>\n",
       "    <tr style=\"text-align: right;\">\n",
       "      <th></th>\n",
       "      <th>credit.policy</th>\n",
       "      <th>int.rate</th>\n",
       "      <th>installment</th>\n",
       "      <th>log.annual.inc</th>\n",
       "      <th>dti</th>\n",
       "      <th>fico</th>\n",
       "      <th>days.with.cr.line</th>\n",
       "      <th>revol.bal</th>\n",
       "      <th>revol.util</th>\n",
       "      <th>inq.last.6mths</th>\n",
       "      <th>delinq.2yrs</th>\n",
       "      <th>pub.rec</th>\n",
       "      <th>not.fully.paid</th>\n",
       "    </tr>\n",
       "  </thead>\n",
       "  <tbody>\n",
       "    <tr>\n",
       "      <th>0</th>\n",
       "      <td>1</td>\n",
       "      <td>0.1189</td>\n",
       "      <td>829.10</td>\n",
       "      <td>11.350407</td>\n",
       "      <td>19.48</td>\n",
       "      <td>737</td>\n",
       "      <td>5639.958333</td>\n",
       "      <td>28854</td>\n",
       "      <td>52.1</td>\n",
       "      <td>0</td>\n",
       "      <td>0</td>\n",
       "      <td>0</td>\n",
       "      <td>0</td>\n",
       "    </tr>\n",
       "    <tr>\n",
       "      <th>1</th>\n",
       "      <td>1</td>\n",
       "      <td>0.1071</td>\n",
       "      <td>228.22</td>\n",
       "      <td>11.082143</td>\n",
       "      <td>14.29</td>\n",
       "      <td>707</td>\n",
       "      <td>2760.000000</td>\n",
       "      <td>33623</td>\n",
       "      <td>76.7</td>\n",
       "      <td>0</td>\n",
       "      <td>0</td>\n",
       "      <td>0</td>\n",
       "      <td>0</td>\n",
       "    </tr>\n",
       "    <tr>\n",
       "      <th>2</th>\n",
       "      <td>1</td>\n",
       "      <td>0.1357</td>\n",
       "      <td>366.86</td>\n",
       "      <td>10.373491</td>\n",
       "      <td>11.63</td>\n",
       "      <td>682</td>\n",
       "      <td>4710.000000</td>\n",
       "      <td>3511</td>\n",
       "      <td>25.6</td>\n",
       "      <td>1</td>\n",
       "      <td>0</td>\n",
       "      <td>0</td>\n",
       "      <td>0</td>\n",
       "    </tr>\n",
       "    <tr>\n",
       "      <th>3</th>\n",
       "      <td>1</td>\n",
       "      <td>0.1008</td>\n",
       "      <td>162.34</td>\n",
       "      <td>11.350407</td>\n",
       "      <td>8.10</td>\n",
       "      <td>712</td>\n",
       "      <td>2699.958333</td>\n",
       "      <td>33667</td>\n",
       "      <td>73.2</td>\n",
       "      <td>1</td>\n",
       "      <td>0</td>\n",
       "      <td>0</td>\n",
       "      <td>0</td>\n",
       "    </tr>\n",
       "    <tr>\n",
       "      <th>4</th>\n",
       "      <td>1</td>\n",
       "      <td>0.1426</td>\n",
       "      <td>102.92</td>\n",
       "      <td>11.299732</td>\n",
       "      <td>14.97</td>\n",
       "      <td>667</td>\n",
       "      <td>4066.000000</td>\n",
       "      <td>4740</td>\n",
       "      <td>39.5</td>\n",
       "      <td>0</td>\n",
       "      <td>1</td>\n",
       "      <td>0</td>\n",
       "      <td>0</td>\n",
       "    </tr>\n",
       "    <tr>\n",
       "      <th>...</th>\n",
       "      <td>...</td>\n",
       "      <td>...</td>\n",
       "      <td>...</td>\n",
       "      <td>...</td>\n",
       "      <td>...</td>\n",
       "      <td>...</td>\n",
       "      <td>...</td>\n",
       "      <td>...</td>\n",
       "      <td>...</td>\n",
       "      <td>...</td>\n",
       "      <td>...</td>\n",
       "      <td>...</td>\n",
       "      <td>...</td>\n",
       "    </tr>\n",
       "    <tr>\n",
       "      <th>9573</th>\n",
       "      <td>0</td>\n",
       "      <td>0.1461</td>\n",
       "      <td>344.76</td>\n",
       "      <td>12.180755</td>\n",
       "      <td>10.39</td>\n",
       "      <td>672</td>\n",
       "      <td>10474.000000</td>\n",
       "      <td>215372</td>\n",
       "      <td>82.1</td>\n",
       "      <td>2</td>\n",
       "      <td>0</td>\n",
       "      <td>0</td>\n",
       "      <td>1</td>\n",
       "    </tr>\n",
       "    <tr>\n",
       "      <th>9574</th>\n",
       "      <td>0</td>\n",
       "      <td>0.1253</td>\n",
       "      <td>257.70</td>\n",
       "      <td>11.141862</td>\n",
       "      <td>0.21</td>\n",
       "      <td>722</td>\n",
       "      <td>4380.000000</td>\n",
       "      <td>184</td>\n",
       "      <td>1.1</td>\n",
       "      <td>5</td>\n",
       "      <td>0</td>\n",
       "      <td>0</td>\n",
       "      <td>1</td>\n",
       "    </tr>\n",
       "    <tr>\n",
       "      <th>9575</th>\n",
       "      <td>0</td>\n",
       "      <td>0.1071</td>\n",
       "      <td>97.81</td>\n",
       "      <td>10.596635</td>\n",
       "      <td>13.09</td>\n",
       "      <td>687</td>\n",
       "      <td>3450.041667</td>\n",
       "      <td>10036</td>\n",
       "      <td>82.9</td>\n",
       "      <td>8</td>\n",
       "      <td>0</td>\n",
       "      <td>0</td>\n",
       "      <td>1</td>\n",
       "    </tr>\n",
       "    <tr>\n",
       "      <th>9576</th>\n",
       "      <td>0</td>\n",
       "      <td>0.1600</td>\n",
       "      <td>351.58</td>\n",
       "      <td>10.819778</td>\n",
       "      <td>19.18</td>\n",
       "      <td>692</td>\n",
       "      <td>1800.000000</td>\n",
       "      <td>0</td>\n",
       "      <td>3.2</td>\n",
       "      <td>5</td>\n",
       "      <td>0</td>\n",
       "      <td>0</td>\n",
       "      <td>1</td>\n",
       "    </tr>\n",
       "    <tr>\n",
       "      <th>9577</th>\n",
       "      <td>0</td>\n",
       "      <td>0.1392</td>\n",
       "      <td>853.43</td>\n",
       "      <td>11.264464</td>\n",
       "      <td>16.28</td>\n",
       "      <td>732</td>\n",
       "      <td>4740.000000</td>\n",
       "      <td>37879</td>\n",
       "      <td>57.0</td>\n",
       "      <td>6</td>\n",
       "      <td>0</td>\n",
       "      <td>0</td>\n",
       "      <td>1</td>\n",
       "    </tr>\n",
       "  </tbody>\n",
       "</table>\n",
       "<p>9578 rows × 13 columns</p>\n",
       "</div>"
      ],
      "text/plain": [
       "      credit.policy  int.rate  installment  log.annual.inc    dti  fico  \\\n",
       "0                 1    0.1189       829.10       11.350407  19.48   737   \n",
       "1                 1    0.1071       228.22       11.082143  14.29   707   \n",
       "2                 1    0.1357       366.86       10.373491  11.63   682   \n",
       "3                 1    0.1008       162.34       11.350407   8.10   712   \n",
       "4                 1    0.1426       102.92       11.299732  14.97   667   \n",
       "...             ...       ...          ...             ...    ...   ...   \n",
       "9573              0    0.1461       344.76       12.180755  10.39   672   \n",
       "9574              0    0.1253       257.70       11.141862   0.21   722   \n",
       "9575              0    0.1071        97.81       10.596635  13.09   687   \n",
       "9576              0    0.1600       351.58       10.819778  19.18   692   \n",
       "9577              0    0.1392       853.43       11.264464  16.28   732   \n",
       "\n",
       "      days.with.cr.line  revol.bal  revol.util  inq.last.6mths  delinq.2yrs  \\\n",
       "0           5639.958333      28854        52.1               0            0   \n",
       "1           2760.000000      33623        76.7               0            0   \n",
       "2           4710.000000       3511        25.6               1            0   \n",
       "3           2699.958333      33667        73.2               1            0   \n",
       "4           4066.000000       4740        39.5               0            1   \n",
       "...                 ...        ...         ...             ...          ...   \n",
       "9573       10474.000000     215372        82.1               2            0   \n",
       "9574        4380.000000        184         1.1               5            0   \n",
       "9575        3450.041667      10036        82.9               8            0   \n",
       "9576        1800.000000          0         3.2               5            0   \n",
       "9577        4740.000000      37879        57.0               6            0   \n",
       "\n",
       "      pub.rec  not.fully.paid  \n",
       "0           0               0  \n",
       "1           0               0  \n",
       "2           0               0  \n",
       "3           0               0  \n",
       "4           0               0  \n",
       "...       ...             ...  \n",
       "9573        0               1  \n",
       "9574        0               1  \n",
       "9575        0               1  \n",
       "9576        0               1  \n",
       "9577        0               1  \n",
       "\n",
       "[9578 rows x 13 columns]"
      ]
     },
     "execution_count": 9,
     "metadata": {},
     "output_type": "execute_result"
    }
   ],
   "source": [
    "loan_data"
   ]
  },
  {
   "cell_type": "markdown",
   "id": "b335241b",
   "metadata": {},
   "source": [
    "For this part, it asked for features and the label to be seperated and metion the label.\n",
    "\n",
    "For the features, it will be columns \"int.rate\", \"installment\",\t\"log.annual.inc\", \"dti\", \"fico\", \"days.with.cr.line\", \"revol.bal\" and \"revol.uti\". For the label it will be column \"not.fully.paid\".\n",
    "\n",
    "The reason behind my choice for these features is because they all are independent variables which are used in determining the label which is not.fully.paid. As for the reason why I didn't choose columns \"credit.policy\", \"inq.last.6mths\", \"delinq.2yrs\" and \"pub.rec\" is because these columns don't exactly affect whether they have paid fully or not. An example is column \"credit.policy\", even if we know whether the customer has met the criteria for credit underwritting, it doesn't help in indicating whether they have paid fully or not.\n",
    "\n",
    "As for choosing column \"not.fully.paid\" as my label is because \"not.fully.paid\" column is used to determine between whether the customer has paid back or not which means it's a perfect for a label for classfication as there's only a 1 (Has not paid fully) or a 0 (Has paid fully). Also this column, it's description is whether the customer has paid back fully. This column is a dependent variables since to get the answer lots of varibles are needed which fits perfectly for the different independent variables that can contribute to whether the customer has paid back or not. Also in the question it stated there \"prediction for the label (whether borrowers will pay back or not)\" which symbolises this exact column meaning."
   ]
  },
  {
   "cell_type": "markdown",
   "id": "e3d1d4bc",
   "metadata": {},
   "source": [
    "### Part C"
   ]
  },
  {
   "cell_type": "markdown",
   "id": "802dd0a1",
   "metadata": {},
   "source": [
    "For this part the question requires the use of sklearn.model_selection.train_test_split function to split the data for training (80%) and testing (20%). \n",
    "\n",
    "In order to do this, what I did was firstly check how many columns and rows we have in the data set as seen in the code below."
   ]
  },
  {
   "cell_type": "code",
   "execution_count": 10,
   "id": "f941a561",
   "metadata": {},
   "outputs": [
    {
     "data": {
      "text/plain": [
       "(9578, 13)"
      ]
     },
     "execution_count": 10,
     "metadata": {},
     "output_type": "execute_result"
    }
   ],
   "source": [
    "import pandas as pd\n",
    "import matplotlib.pyplot as plt\n",
    "\n",
    "loan_data = pd.read_csv('loan_data.csv')\n",
    "loan_data.shape"
   ]
  },
  {
   "cell_type": "markdown",
   "id": "81b638c0",
   "metadata": {},
   "source": [
    "After finding the number of rows and columns there is, I used the function head() to find out what the values looks like inside the data set as seen below for the first 5 rows. This is also usefull to figure out which are features and labels. Luckily this has been answered in the previous part so it's not fully required."
   ]
  },
  {
   "cell_type": "code",
   "execution_count": 11,
   "id": "8274edfc",
   "metadata": {},
   "outputs": [
    {
     "data": {
      "text/html": [
       "<div>\n",
       "<style scoped>\n",
       "    .dataframe tbody tr th:only-of-type {\n",
       "        vertical-align: middle;\n",
       "    }\n",
       "\n",
       "    .dataframe tbody tr th {\n",
       "        vertical-align: top;\n",
       "    }\n",
       "\n",
       "    .dataframe thead th {\n",
       "        text-align: right;\n",
       "    }\n",
       "</style>\n",
       "<table border=\"1\" class=\"dataframe\">\n",
       "  <thead>\n",
       "    <tr style=\"text-align: right;\">\n",
       "      <th></th>\n",
       "      <th>credit.policy</th>\n",
       "      <th>int.rate</th>\n",
       "      <th>installment</th>\n",
       "      <th>log.annual.inc</th>\n",
       "      <th>dti</th>\n",
       "      <th>fico</th>\n",
       "      <th>days.with.cr.line</th>\n",
       "      <th>revol.bal</th>\n",
       "      <th>revol.util</th>\n",
       "      <th>inq.last.6mths</th>\n",
       "      <th>delinq.2yrs</th>\n",
       "      <th>pub.rec</th>\n",
       "      <th>not.fully.paid</th>\n",
       "    </tr>\n",
       "  </thead>\n",
       "  <tbody>\n",
       "    <tr>\n",
       "      <th>0</th>\n",
       "      <td>1</td>\n",
       "      <td>0.1189</td>\n",
       "      <td>829.10</td>\n",
       "      <td>11.350407</td>\n",
       "      <td>19.48</td>\n",
       "      <td>737</td>\n",
       "      <td>5639.958333</td>\n",
       "      <td>28854</td>\n",
       "      <td>52.1</td>\n",
       "      <td>0</td>\n",
       "      <td>0</td>\n",
       "      <td>0</td>\n",
       "      <td>0</td>\n",
       "    </tr>\n",
       "    <tr>\n",
       "      <th>1</th>\n",
       "      <td>1</td>\n",
       "      <td>0.1071</td>\n",
       "      <td>228.22</td>\n",
       "      <td>11.082143</td>\n",
       "      <td>14.29</td>\n",
       "      <td>707</td>\n",
       "      <td>2760.000000</td>\n",
       "      <td>33623</td>\n",
       "      <td>76.7</td>\n",
       "      <td>0</td>\n",
       "      <td>0</td>\n",
       "      <td>0</td>\n",
       "      <td>0</td>\n",
       "    </tr>\n",
       "    <tr>\n",
       "      <th>2</th>\n",
       "      <td>1</td>\n",
       "      <td>0.1357</td>\n",
       "      <td>366.86</td>\n",
       "      <td>10.373491</td>\n",
       "      <td>11.63</td>\n",
       "      <td>682</td>\n",
       "      <td>4710.000000</td>\n",
       "      <td>3511</td>\n",
       "      <td>25.6</td>\n",
       "      <td>1</td>\n",
       "      <td>0</td>\n",
       "      <td>0</td>\n",
       "      <td>0</td>\n",
       "    </tr>\n",
       "    <tr>\n",
       "      <th>3</th>\n",
       "      <td>1</td>\n",
       "      <td>0.1008</td>\n",
       "      <td>162.34</td>\n",
       "      <td>11.350407</td>\n",
       "      <td>8.10</td>\n",
       "      <td>712</td>\n",
       "      <td>2699.958333</td>\n",
       "      <td>33667</td>\n",
       "      <td>73.2</td>\n",
       "      <td>1</td>\n",
       "      <td>0</td>\n",
       "      <td>0</td>\n",
       "      <td>0</td>\n",
       "    </tr>\n",
       "    <tr>\n",
       "      <th>4</th>\n",
       "      <td>1</td>\n",
       "      <td>0.1426</td>\n",
       "      <td>102.92</td>\n",
       "      <td>11.299732</td>\n",
       "      <td>14.97</td>\n",
       "      <td>667</td>\n",
       "      <td>4066.000000</td>\n",
       "      <td>4740</td>\n",
       "      <td>39.5</td>\n",
       "      <td>0</td>\n",
       "      <td>1</td>\n",
       "      <td>0</td>\n",
       "      <td>0</td>\n",
       "    </tr>\n",
       "  </tbody>\n",
       "</table>\n",
       "</div>"
      ],
      "text/plain": [
       "   credit.policy  int.rate  installment  log.annual.inc    dti  fico  \\\n",
       "0              1    0.1189       829.10       11.350407  19.48   737   \n",
       "1              1    0.1071       228.22       11.082143  14.29   707   \n",
       "2              1    0.1357       366.86       10.373491  11.63   682   \n",
       "3              1    0.1008       162.34       11.350407   8.10   712   \n",
       "4              1    0.1426       102.92       11.299732  14.97   667   \n",
       "\n",
       "   days.with.cr.line  revol.bal  revol.util  inq.last.6mths  delinq.2yrs  \\\n",
       "0        5639.958333      28854        52.1               0            0   \n",
       "1        2760.000000      33623        76.7               0            0   \n",
       "2        4710.000000       3511        25.6               1            0   \n",
       "3        2699.958333      33667        73.2               1            0   \n",
       "4        4066.000000       4740        39.5               0            1   \n",
       "\n",
       "   pub.rec  not.fully.paid  \n",
       "0        0               0  \n",
       "1        0               0  \n",
       "2        0               0  \n",
       "3        0               0  \n",
       "4        0               0  "
      ]
     },
     "execution_count": 11,
     "metadata": {},
     "output_type": "execute_result"
    }
   ],
   "source": [
    "loan_data.head()"
   ]
  },
  {
   "cell_type": "markdown",
   "id": "286beda6",
   "metadata": {},
   "source": [
    "Now in order for the train_test_split to work we need to split the data into 2 different data X for the features and y for the labelled data. "
   ]
  },
  {
   "cell_type": "code",
   "execution_count": 12,
   "id": "0d037a37",
   "metadata": {},
   "outputs": [],
   "source": [
    "X = loan_data[[\n",
    "    'int.rate', 'installment', 'log.annual.inc', 'dti', 'fico', 'days.with.cr.line', 'revol.bal', 'revol.util']]\n",
    "y = loan_data['not.fully.paid']"
   ]
  },
  {
   "cell_type": "markdown",
   "id": "b78f74fd",
   "metadata": {},
   "source": [
    "To test out whether the split dataset has worked I tested it for the first 5 rows for both X and y "
   ]
  },
  {
   "cell_type": "code",
   "execution_count": 13,
   "id": "315ba0a2",
   "metadata": {},
   "outputs": [
    {
     "data": {
      "text/html": [
       "<div>\n",
       "<style scoped>\n",
       "    .dataframe tbody tr th:only-of-type {\n",
       "        vertical-align: middle;\n",
       "    }\n",
       "\n",
       "    .dataframe tbody tr th {\n",
       "        vertical-align: top;\n",
       "    }\n",
       "\n",
       "    .dataframe thead th {\n",
       "        text-align: right;\n",
       "    }\n",
       "</style>\n",
       "<table border=\"1\" class=\"dataframe\">\n",
       "  <thead>\n",
       "    <tr style=\"text-align: right;\">\n",
       "      <th></th>\n",
       "      <th>int.rate</th>\n",
       "      <th>installment</th>\n",
       "      <th>log.annual.inc</th>\n",
       "      <th>dti</th>\n",
       "      <th>fico</th>\n",
       "      <th>days.with.cr.line</th>\n",
       "      <th>revol.bal</th>\n",
       "      <th>revol.util</th>\n",
       "    </tr>\n",
       "  </thead>\n",
       "  <tbody>\n",
       "    <tr>\n",
       "      <th>0</th>\n",
       "      <td>0.1189</td>\n",
       "      <td>829.10</td>\n",
       "      <td>11.350407</td>\n",
       "      <td>19.48</td>\n",
       "      <td>737</td>\n",
       "      <td>5639.958333</td>\n",
       "      <td>28854</td>\n",
       "      <td>52.1</td>\n",
       "    </tr>\n",
       "    <tr>\n",
       "      <th>1</th>\n",
       "      <td>0.1071</td>\n",
       "      <td>228.22</td>\n",
       "      <td>11.082143</td>\n",
       "      <td>14.29</td>\n",
       "      <td>707</td>\n",
       "      <td>2760.000000</td>\n",
       "      <td>33623</td>\n",
       "      <td>76.7</td>\n",
       "    </tr>\n",
       "    <tr>\n",
       "      <th>2</th>\n",
       "      <td>0.1357</td>\n",
       "      <td>366.86</td>\n",
       "      <td>10.373491</td>\n",
       "      <td>11.63</td>\n",
       "      <td>682</td>\n",
       "      <td>4710.000000</td>\n",
       "      <td>3511</td>\n",
       "      <td>25.6</td>\n",
       "    </tr>\n",
       "    <tr>\n",
       "      <th>3</th>\n",
       "      <td>0.1008</td>\n",
       "      <td>162.34</td>\n",
       "      <td>11.350407</td>\n",
       "      <td>8.10</td>\n",
       "      <td>712</td>\n",
       "      <td>2699.958333</td>\n",
       "      <td>33667</td>\n",
       "      <td>73.2</td>\n",
       "    </tr>\n",
       "    <tr>\n",
       "      <th>4</th>\n",
       "      <td>0.1426</td>\n",
       "      <td>102.92</td>\n",
       "      <td>11.299732</td>\n",
       "      <td>14.97</td>\n",
       "      <td>667</td>\n",
       "      <td>4066.000000</td>\n",
       "      <td>4740</td>\n",
       "      <td>39.5</td>\n",
       "    </tr>\n",
       "  </tbody>\n",
       "</table>\n",
       "</div>"
      ],
      "text/plain": [
       "   int.rate  installment  log.annual.inc    dti  fico  days.with.cr.line  \\\n",
       "0    0.1189       829.10       11.350407  19.48   737        5639.958333   \n",
       "1    0.1071       228.22       11.082143  14.29   707        2760.000000   \n",
       "2    0.1357       366.86       10.373491  11.63   682        4710.000000   \n",
       "3    0.1008       162.34       11.350407   8.10   712        2699.958333   \n",
       "4    0.1426       102.92       11.299732  14.97   667        4066.000000   \n",
       "\n",
       "   revol.bal  revol.util  \n",
       "0      28854        52.1  \n",
       "1      33623        76.7  \n",
       "2       3511        25.6  \n",
       "3      33667        73.2  \n",
       "4       4740        39.5  "
      ]
     },
     "execution_count": 13,
     "metadata": {},
     "output_type": "execute_result"
    }
   ],
   "source": [
    "X[0:5]"
   ]
  },
  {
   "cell_type": "markdown",
   "id": "c947c6ba",
   "metadata": {},
   "source": [
    "As seen in the result above, the split for X has worked sucessfully and the features columns have all be defined."
   ]
  },
  {
   "cell_type": "code",
   "execution_count": 14,
   "id": "99a380f9",
   "metadata": {},
   "outputs": [
    {
     "data": {
      "text/plain": [
       "0    0\n",
       "1    0\n",
       "2    0\n",
       "3    0\n",
       "4    0\n",
       "Name: not.fully.paid, dtype: int64"
      ]
     },
     "execution_count": 14,
     "metadata": {},
     "output_type": "execute_result"
    }
   ],
   "source": [
    "y[0:5]"
   ]
  },
  {
   "cell_type": "markdown",
   "id": "ae0b78d9",
   "metadata": {},
   "source": [
    "As seen in the result above, the split for y has worked sucessfully and the the label column has been defined."
   ]
  },
  {
   "cell_type": "markdown",
   "id": "27102025",
   "metadata": {},
   "source": [
    "Now to answer what the question requested, I used the sklearn.model_seelction.train_test_split function as seen below to split the data into 80% for training and 20% for testing. This can be seen in the code below where the test_size is 0.2 which means 20% and random_state = 0 which is used so that the values in the new datasets for training and testing stays the same or otherwise the values each time will be different when the traning dataset is made."
   ]
  },
  {
   "cell_type": "code",
   "execution_count": 15,
   "id": "98747aa5",
   "metadata": {},
   "outputs": [],
   "source": [
    "from sklearn.model_selection import train_test_split\n",
    "X_train, X_test, y_train, y_test = train_test_split(\n",
    " X, y, test_size = 0.2, random_state = 0\n",
    ")"
   ]
  },
  {
   "cell_type": "markdown",
   "id": "5e604dfa",
   "metadata": {},
   "source": [
    "## Classification"
   ]
  },
  {
   "cell_type": "markdown",
   "id": "2cb83b2d",
   "metadata": {},
   "source": [
    "The format I'll write for this sub question will be different. Instead of the usual format I'll be spliting this into 2 seperate parts ince in part B it requests for train a decison tree and random forest model which means there would need to be 2 seperate codes however there's also part c which asks for testing dataset and if I was to test the data set there would be a clash within decison tree and random forest model therefore to avoid confusion and possible errors I've decided to split part b where one is for training a decison tree whilst the other is for training a random forest models"
   ]
  },
  {
   "cell_type": "markdown",
   "id": "4814bafe",
   "metadata": {},
   "source": [
    "### Part A"
   ]
  },
  {
   "cell_type": "markdown",
   "id": "b1f22807",
   "metadata": {},
   "source": [
    "There are two types of classification, the two of them are binary and multi-class. However before we can start talking about the differences it is best to know what each of these classification does. \n",
    "\n",
    "Binary classification is a process where the data for example the dataset given for this question 'loan_data.csv' has been classified into two different class labels. Basically binary classification is like a prediction algorithim which decides which two group the thing belongs to. Another explanation for binary classification is that it is an algorithim that designates one class for normal state and abnormal state. An example can be emails, one email could be an unimportant email that includes junk like ads or another email which contains important information regarding school work. In this case the algorithim will classify the two different emails, the first email as junk and will be sent to junk folder and the other email will be placed in the primary folder.\n",
    "\n",
    "Multi-class is the task of classifying elements into different classes which has no restriction of classes therefore it can classify more than 2 class labels. Also Multi-class classification does not have a notion of normal and abnormal state. Instead as seen in the name, it has different classes and is classfied as belonging to one of the range of known classes. \n",
    "\n",
    "The difference between Binary and Multi-class classification\n",
    "- Binary classification can only classify 2 class labels unlike Multi-class classification which doesn't have a restriction on how many classes can be classified therefore, it can classify more than 2 class labels.\n",
    "- Another difference between Binary and Multi-class classification is the algorithims being used. The algorithims being used by binary classification are Logistic Regression and support vector machine whilst Multi-class classification can use Random forest and gradient boosting.\n",
    "- Lastly, due to binary only being able to classify 2 class labels, the examples that Binary classfication can do is limited to only 2 class labels. For example, email spam detection, churn prediction and Conversation prediction. However for Multi-class since it can support more than 2 class labels it can do more examples, like Face classification, Plant species classification and Optical character recongiton which Binary classification can't do whilst Multi-class classification can also support the algorithim examples given in Binary.\n",
    "\n",
    "The classification that I would use in my current problem is Multi-class classification. Since Binary classification can support up to two classes and my current problem has more than 2 classes therefore Multi-class classficiation is used."
   ]
  },
  {
   "cell_type": "markdown",
   "id": "9ee5b00f",
   "metadata": {},
   "source": [
    "### Reference links used for this Part A\n",
    "\n",
    "Binary Classification and Multi-class classfication <br>\n",
    "https://www.analyticssteps.com/blogs/binary-and-multiclass-classification-machine-learning <br>\n",
    "https://machinelearningmastery.com/types-of-classification-in-machine-learning/ <br>\n",
    "https://stats.stackexchange.com/questions/104925/what-is-the-difference-between-binary-clasification-and-multiclass-classificatio\n",
    "\n",
    "\n",
    "All of the links above, they were all used in helping me gather information about the question and where I paraphased from"
   ]
  },
  {
   "cell_type": "markdown",
   "id": "3e27c984",
   "metadata": {},
   "source": [
    "## Classification for Decision tree"
   ]
  },
  {
   "cell_type": "markdown",
   "id": "d25da3ee",
   "metadata": {},
   "source": [
    "### Part B"
   ]
  },
  {
   "cell_type": "markdown",
   "id": "dc8bb52c",
   "metadata": {},
   "source": [
    "For this part, the question asked for a Decision Tree to be made using the code \"sklearn.tree import DecisionTreeClassifier\"\n",
    "\n",
    "Before we can answer this question, we firstly need to add feature scalling to the code since it's important that if there's a value that's much smaller than another value from another column it will help scale accordingly. Therefore the code is added first before the Decison Tree. Code shown below"
   ]
  },
  {
   "cell_type": "code",
   "execution_count": 16,
   "id": "ec92ad69",
   "metadata": {},
   "outputs": [],
   "source": [
    "import pandas as pd\n",
    "import matplotlib.pyplot as plt\n",
    "\n",
    "loan_data = pd.read_csv('loan_data.csv')\n",
    "\n",
    "X = loan_data[[\n",
    "    'int.rate', 'installment', 'log.annual.inc', 'dti', 'fico', 'days.with.cr.line', 'revol.bal', 'revol.util']]\n",
    "y = loan_data['not.fully.paid']\n",
    "\n",
    "from sklearn.model_selection import train_test_split\n",
    "X_train, X_test, y_train, y_test = train_test_split(\n",
    "    X, y, test_size = 0.2, random_state = 0\n",
    ")\n",
    "\n",
    "from sklearn.preprocessing import StandardScaler\n",
    "sc = StandardScaler()\n",
    "X_train = sc.fit_transform(X_train)\n",
    "X_test = sc.transform(X_test)"
   ]
  },
  {
   "cell_type": "markdown",
   "id": "c16eee50",
   "metadata": {},
   "source": [
    "Now following after feature scalling we continue with what the question asked for which is code from sklearn.tree import DecisionTreeClassifier to train the Decision Tree. The reason this is important is because for the next parts we need to use the algorithim created to make predictions.\n",
    "\n",
    "Also in order to train the decison tree there also needs to be a classfier added which in this case I instantiated classifier with DecisionTreeClassifier() then within the DecisionTreeClassifier I added conditions like classifier criterion = 'entropy' and random_state = 0 which are useful to stop the values of the decison tree to be different each time. Then lastly the fit method which is used to train the algorithim on its training data. The code is shown below."
   ]
  },
  {
   "cell_type": "code",
   "execution_count": 17,
   "id": "c6eec844",
   "metadata": {},
   "outputs": [
    {
     "data": {
      "text/plain": [
       "DecisionTreeClassifier(criterion='entropy', random_state=0)"
      ]
     },
     "execution_count": 17,
     "metadata": {},
     "output_type": "execute_result"
    }
   ],
   "source": [
    "from sklearn.tree import DecisionTreeClassifier\n",
    "classifier = DecisionTreeClassifier(\n",
    "    criterion = 'entropy', random_state = 0\n",
    ")\n",
    "classifier.fit(X_train, y_train)"
   ]
  },
  {
   "cell_type": "markdown",
   "id": "473f0fcc",
   "metadata": {},
   "source": [
    "### Part C"
   ]
  },
  {
   "cell_type": "markdown",
   "id": "3fffde66",
   "metadata": {},
   "source": [
    "This part the question is split into 2 seperate parts, first is the testing dataset which was created earlier then conduct the prediction for the label. The second is a display for the confusion matrix.\n",
    "\n",
    "Firstly, I will start with testing dataset as it's the first requested part. In order to this I will be using a code that is used to predict the method for Decision tree which is classifier.predict() and then for the part inside the brackets it will be the X_test which is necessary so that the y_pred now contains all the predicted values and input from the testing data set for X_test. The code is shown below"
   ]
  },
  {
   "cell_type": "code",
   "execution_count": 18,
   "id": "f371734a",
   "metadata": {},
   "outputs": [],
   "source": [
    "y_pred = classifier.predict(X_test)"
   ]
  },
  {
   "cell_type": "markdown",
   "id": "dfd8ea57",
   "metadata": {},
   "source": [
    "We can try to see what the difference between y_pred and y_test are by doing this code below"
   ]
  },
  {
   "cell_type": "code",
   "execution_count": 19,
   "id": "9a3b13e2",
   "metadata": {},
   "outputs": [
    {
     "data": {
      "text/html": [
       "<div>\n",
       "<style scoped>\n",
       "    .dataframe tbody tr th:only-of-type {\n",
       "        vertical-align: middle;\n",
       "    }\n",
       "\n",
       "    .dataframe tbody tr th {\n",
       "        vertical-align: top;\n",
       "    }\n",
       "\n",
       "    .dataframe thead th {\n",
       "        text-align: right;\n",
       "    }\n",
       "</style>\n",
       "<table border=\"1\" class=\"dataframe\">\n",
       "  <thead>\n",
       "    <tr style=\"text-align: right;\">\n",
       "      <th></th>\n",
       "      <th>Actual</th>\n",
       "      <th>Predicted</th>\n",
       "    </tr>\n",
       "  </thead>\n",
       "  <tbody>\n",
       "    <tr>\n",
       "      <th>3343</th>\n",
       "      <td>0</td>\n",
       "      <td>0</td>\n",
       "    </tr>\n",
       "    <tr>\n",
       "      <th>9</th>\n",
       "      <td>0</td>\n",
       "      <td>1</td>\n",
       "    </tr>\n",
       "    <tr>\n",
       "      <th>1741</th>\n",
       "      <td>0</td>\n",
       "      <td>0</td>\n",
       "    </tr>\n",
       "    <tr>\n",
       "      <th>5160</th>\n",
       "      <td>0</td>\n",
       "      <td>0</td>\n",
       "    </tr>\n",
       "    <tr>\n",
       "      <th>7760</th>\n",
       "      <td>0</td>\n",
       "      <td>0</td>\n",
       "    </tr>\n",
       "    <tr>\n",
       "      <th>...</th>\n",
       "      <td>...</td>\n",
       "      <td>...</td>\n",
       "    </tr>\n",
       "    <tr>\n",
       "      <th>2113</th>\n",
       "      <td>0</td>\n",
       "      <td>0</td>\n",
       "    </tr>\n",
       "    <tr>\n",
       "      <th>9282</th>\n",
       "      <td>0</td>\n",
       "      <td>0</td>\n",
       "    </tr>\n",
       "    <tr>\n",
       "      <th>2434</th>\n",
       "      <td>0</td>\n",
       "      <td>1</td>\n",
       "    </tr>\n",
       "    <tr>\n",
       "      <th>7287</th>\n",
       "      <td>1</td>\n",
       "      <td>0</td>\n",
       "    </tr>\n",
       "    <tr>\n",
       "      <th>318</th>\n",
       "      <td>0</td>\n",
       "      <td>0</td>\n",
       "    </tr>\n",
       "  </tbody>\n",
       "</table>\n",
       "<p>1916 rows × 2 columns</p>\n",
       "</div>"
      ],
      "text/plain": [
       "      Actual  Predicted\n",
       "3343       0          0\n",
       "9          0          1\n",
       "1741       0          0\n",
       "5160       0          0\n",
       "7760       0          0\n",
       "...      ...        ...\n",
       "2113       0          0\n",
       "9282       0          0\n",
       "2434       0          1\n",
       "7287       1          0\n",
       "318        0          0\n",
       "\n",
       "[1916 rows x 2 columns]"
      ]
     },
     "execution_count": 19,
     "metadata": {},
     "output_type": "execute_result"
    }
   ],
   "source": [
    "prediction = pd.DataFrame({'Actual': y_test, 'Predicted': y_pred})\n",
    "prediction"
   ]
  },
  {
   "cell_type": "markdown",
   "id": "33b0184b",
   "metadata": {},
   "source": [
    "We can see from the code above, that the predicted and actual are not exactly the same. however we can see that there are some quite similar values between Actual and Predicted. "
   ]
  },
  {
   "cell_type": "markdown",
   "id": "57357fb9",
   "metadata": {},
   "source": [
    "For the 2nd part which is display confusion matrix.\n",
    "\n",
    "In order to do this it I will be using one the library Scikit-Learn metrics which contains confusion_matrix which means it can help calculate the metric for me. The code is shown below"
   ]
  },
  {
   "cell_type": "code",
   "execution_count": 20,
   "id": "658feef9",
   "metadata": {},
   "outputs": [
    {
     "name": "stdout",
     "output_type": "stream",
     "text": [
      "[[1346  269]\n",
      " [ 250   51]]\n"
     ]
    }
   ],
   "source": [
    "from sklearn.metrics import confusion_matrix\n",
    "\n",
    "print(confusion_matrix(y_test,y_pred))"
   ]
  },
  {
   "cell_type": "markdown",
   "id": "d4c803cc",
   "metadata": {},
   "source": [
    "From the result gathered above, we can figure out that out of out of 1916 tests, only 519 tests were miscalculated by the algorithim. This means that the accuracy is 72.9% which is not very accurate however it can still be used to get at least 72.9% of over 1916 correct. Therefore, its still viable to be used.\n",
    "\n",
    "How I managed to read the confusion matrix is through knowing that a confusion matrix is a 2 by 2 matrix and that always the top left and the bottom right are the total correct tests whist the top right and bottom left are the wrong tests.\n",
    "\n",
    "How I managed to calculate the number of miscalculated tests is through adding 269 and 250 which makes 519 and how I managed to calculate the total tests is through 1346 + 269 + 250 + 51 = 1916. Lastly, how I calculated the accuracy is though 100 - (519 divide by 1916 then times 100) which got the answer 72.9%."
   ]
  },
  {
   "cell_type": "markdown",
   "id": "c6bc931b",
   "metadata": {},
   "source": [
    "Although not asked, Instead of spending time calculating the accuracy, I can just calculate the accuracy of the predicted value by using accuracy_score from the Scikit-Learn metrics to find the accuracy easily."
   ]
  },
  {
   "cell_type": "code",
   "execution_count": 21,
   "id": "bc0faceb",
   "metadata": {},
   "outputs": [
    {
     "name": "stdout",
     "output_type": "stream",
     "text": [
      "0.7291231732776617\n"
     ]
    }
   ],
   "source": [
    "from sklearn.metrics import accuracy_score\n",
    "\n",
    "print(accuracy_score(y_test, y_pred))"
   ]
  },
  {
   "cell_type": "markdown",
   "id": "ac77cb9c",
   "metadata": {},
   "source": [
    "## Classification for Random Forest Model"
   ]
  },
  {
   "cell_type": "markdown",
   "id": "ed49984a",
   "metadata": {},
   "source": [
    "### Part B"
   ]
  },
  {
   "cell_type": "markdown",
   "id": "f9a5bf8e",
   "metadata": {},
   "source": [
    "For this part, the question asked for a Random Forest Model to be made using the code \"sklearn.ensemble import RandomForestClassifier\"\n",
    "\n",
    "\n",
    "Before we can answer this question, we firstly need to add feature scalling to the code since it's important that if there's a value that's much smaller than another value from another column it will help scale accordingly. Therefore the code is added first before the Random Forest Model. Code shown below"
   ]
  },
  {
   "cell_type": "code",
   "execution_count": 22,
   "id": "9de1ed25",
   "metadata": {},
   "outputs": [],
   "source": [
    "import pandas as pd\n",
    "import matplotlib.pyplot as plt\n",
    "\n",
    "loan_data = pd.read_csv('loan_data.csv')\n",
    "\n",
    "X = loan_data[[\n",
    "    'int.rate', 'installment', 'log.annual.inc', 'dti', 'fico', 'days.with.cr.line', 'revol.bal', 'revol.util']]\n",
    "y = loan_data['not.fully.paid']\n",
    "\n",
    "from sklearn.model_selection import train_test_split\n",
    "X_train, X_test, y_train, y_test = train_test_split(\n",
    "    X, y, test_size = 0.2, random_state = 0\n",
    ")\n",
    "\n",
    "from sklearn.preprocessing import StandardScaler\n",
    "sc = StandardScaler()\n",
    "X_train = sc.fit_transform(X_train)\n",
    "X_test = sc.transform(X_test)"
   ]
  },
  {
   "cell_type": "markdown",
   "id": "2ee9161b",
   "metadata": {},
   "source": [
    "Now following after feature scalling we continue with what the question asked for which is code from sklearn.ensemble import RandomForestClassifier to train the Random Forest Model. The reason this is important is because for the next parts we need to use the algorithim created to make predictions.\n",
    "\n",
    "Also in order to train the Random Forest Model there also needs to be a classfier added which in this case I instantiated classifier with RandomForestClassifier() then within the RandomForestClassifier I added conditions like n_estimators = 20, classifier criterion = 'entropy' and random_state = 0 which are useful to stop the values of the decison tree to be different each time and estimators which means the number of trees. Then lastly, the fit method which is used to train the algorithim on its training data. The code is shown below."
   ]
  },
  {
   "cell_type": "code",
   "execution_count": 23,
   "id": "eca841fa",
   "metadata": {},
   "outputs": [
    {
     "data": {
      "text/plain": [
       "RandomForestClassifier(criterion='entropy', n_estimators=20, random_state=0)"
      ]
     },
     "execution_count": 23,
     "metadata": {},
     "output_type": "execute_result"
    }
   ],
   "source": [
    "from sklearn.ensemble import RandomForestClassifier\n",
    "classifier = RandomForestClassifier(\n",
    " n_estimators = 20,\n",
    " criterion = 'entropy',\n",
    " random_state = 0\n",
    ")\n",
    "classifier.fit(X_train, y_train)"
   ]
  },
  {
   "cell_type": "markdown",
   "id": "6eed9a6e",
   "metadata": {},
   "source": [
    "### Part C"
   ]
  },
  {
   "cell_type": "markdown",
   "id": "82c489a7",
   "metadata": {},
   "source": [
    "This part the question is split into 2 seperate parts, first is the testing dataset which was created earlier then conduct the prediction for the label. The second is a display for the confusion matrix.\n",
    "\n",
    "Firstly, I will start with testing dataset as it's the first requested part. In order to this I will be using a code that is used to predict the method for  Random Forest Mode which is classifier.predict() and then for the part inside the brackets it will be the X_test which is necessary so that the y_pred now contains all the predicted values and input from the testing data set for X_test. The code is shown below"
   ]
  },
  {
   "cell_type": "code",
   "execution_count": 24,
   "id": "3b0fc365",
   "metadata": {},
   "outputs": [],
   "source": [
    "y_pred = classifier.predict(X_test)"
   ]
  },
  {
   "cell_type": "markdown",
   "id": "4717a381",
   "metadata": {},
   "source": [
    "We can try to see what the difference between y_pred and y_test are by doing this code below"
   ]
  },
  {
   "cell_type": "code",
   "execution_count": 25,
   "id": "84167f69",
   "metadata": {},
   "outputs": [
    {
     "data": {
      "text/html": [
       "<div>\n",
       "<style scoped>\n",
       "    .dataframe tbody tr th:only-of-type {\n",
       "        vertical-align: middle;\n",
       "    }\n",
       "\n",
       "    .dataframe tbody tr th {\n",
       "        vertical-align: top;\n",
       "    }\n",
       "\n",
       "    .dataframe thead th {\n",
       "        text-align: right;\n",
       "    }\n",
       "</style>\n",
       "<table border=\"1\" class=\"dataframe\">\n",
       "  <thead>\n",
       "    <tr style=\"text-align: right;\">\n",
       "      <th></th>\n",
       "      <th>Actual</th>\n",
       "      <th>Predicted</th>\n",
       "    </tr>\n",
       "  </thead>\n",
       "  <tbody>\n",
       "    <tr>\n",
       "      <th>3343</th>\n",
       "      <td>0</td>\n",
       "      <td>0</td>\n",
       "    </tr>\n",
       "    <tr>\n",
       "      <th>9</th>\n",
       "      <td>0</td>\n",
       "      <td>0</td>\n",
       "    </tr>\n",
       "    <tr>\n",
       "      <th>1741</th>\n",
       "      <td>0</td>\n",
       "      <td>0</td>\n",
       "    </tr>\n",
       "    <tr>\n",
       "      <th>5160</th>\n",
       "      <td>0</td>\n",
       "      <td>0</td>\n",
       "    </tr>\n",
       "    <tr>\n",
       "      <th>7760</th>\n",
       "      <td>0</td>\n",
       "      <td>0</td>\n",
       "    </tr>\n",
       "    <tr>\n",
       "      <th>...</th>\n",
       "      <td>...</td>\n",
       "      <td>...</td>\n",
       "    </tr>\n",
       "    <tr>\n",
       "      <th>2113</th>\n",
       "      <td>0</td>\n",
       "      <td>0</td>\n",
       "    </tr>\n",
       "    <tr>\n",
       "      <th>9282</th>\n",
       "      <td>0</td>\n",
       "      <td>0</td>\n",
       "    </tr>\n",
       "    <tr>\n",
       "      <th>2434</th>\n",
       "      <td>0</td>\n",
       "      <td>0</td>\n",
       "    </tr>\n",
       "    <tr>\n",
       "      <th>7287</th>\n",
       "      <td>1</td>\n",
       "      <td>0</td>\n",
       "    </tr>\n",
       "    <tr>\n",
       "      <th>318</th>\n",
       "      <td>0</td>\n",
       "      <td>0</td>\n",
       "    </tr>\n",
       "  </tbody>\n",
       "</table>\n",
       "<p>1916 rows × 2 columns</p>\n",
       "</div>"
      ],
      "text/plain": [
       "      Actual  Predicted\n",
       "3343       0          0\n",
       "9          0          0\n",
       "1741       0          0\n",
       "5160       0          0\n",
       "7760       0          0\n",
       "...      ...        ...\n",
       "2113       0          0\n",
       "9282       0          0\n",
       "2434       0          0\n",
       "7287       1          0\n",
       "318        0          0\n",
       "\n",
       "[1916 rows x 2 columns]"
      ]
     },
     "execution_count": 25,
     "metadata": {},
     "output_type": "execute_result"
    }
   ],
   "source": [
    "prediction = pd.DataFrame({'Actual': y_test, 'Predicted': y_pred})\n",
    "prediction"
   ]
  },
  {
   "cell_type": "markdown",
   "id": "90461f6a",
   "metadata": {},
   "source": [
    "We can see from the code above, that the predicted and actual are not exactly the same. however we can see that there are some quite similar values between Actual and Predicted. "
   ]
  },
  {
   "cell_type": "markdown",
   "id": "44b41bd3",
   "metadata": {},
   "source": [
    "For the 2nd part which is display confusion matrix.\n",
    "\n",
    "In order to do this it I will be using one the library Scikit-Learn metrics which contains confusion_matrix which means it can help calculate the metric for me. The code is shown below"
   ]
  },
  {
   "cell_type": "code",
   "execution_count": 26,
   "id": "f2f913b8",
   "metadata": {},
   "outputs": [
    {
     "name": "stdout",
     "output_type": "stream",
     "text": [
      "[[1605   10]\n",
      " [ 294    7]]\n"
     ]
    }
   ],
   "source": [
    "from sklearn.metrics import confusion_matrix\n",
    "\n",
    "print(confusion_matrix(y_test,y_pred))"
   ]
  },
  {
   "cell_type": "markdown",
   "id": "86274d90",
   "metadata": {},
   "source": [
    "From the result gathered above, we can figure out that out of out of 1916 tests, only 304 tests were miscalculated by the algorithim. This means that the accuracy is 84.1% which is pretty accurate although no where near perfect at least it can still be used to get 1612 correct. Therefore, its is viable to be used.\n",
    "\n",
    "How I managed to read the confusion matrix is through knowing that a confusion matrix is a 2 by 2 matrix and that always the top left and the bottom right are the total correct tests whist the top right and bottom left are the wrong tests.\n",
    "\n",
    "How I managed to calculate the number of miscalculated tests is through adding 269 and 250 which makes 519 and how I managed to calculate the total tests is through 1605 + 10 + 294 + 7 = 1916. Lastly, how I calculated the accuracy is though 100 - (304 divide by 1916 then times 100) which got the answer 84.1%."
   ]
  },
  {
   "cell_type": "markdown",
   "id": "0bfbb647",
   "metadata": {},
   "source": [
    "Although not asked, Instead of spending time calculating the accuracy, I can just calculate the accuracy of the predicted value by using accuracy_score from the Scikit-Learn metrics to find the accuracy easily."
   ]
  },
  {
   "cell_type": "code",
   "execution_count": 27,
   "id": "122bd612",
   "metadata": {},
   "outputs": [
    {
     "name": "stdout",
     "output_type": "stream",
     "text": [
      "0.8413361169102297\n"
     ]
    }
   ],
   "source": [
    "from sklearn.metrics import accuracy_score\n",
    "\n",
    "print(accuracy_score(y_test, y_pred))"
   ]
  },
  {
   "cell_type": "markdown",
   "id": "e2625016",
   "metadata": {},
   "source": [
    "## Conclusion"
   ]
  },
  {
   "cell_type": "markdown",
   "id": "7d53e72b",
   "metadata": {},
   "source": [
    "### Part A"
   ]
  },
  {
   "cell_type": "markdown",
   "id": "ca715c3c",
   "metadata": {},
   "source": [
    "For this part, the question has asked to conclude the question by comparing the performance of the invistigated classifiers and explain which is better between the 2.\n",
    "\n",
    "The accuracy of Decision Tree is 72.9% with 519 test cases wrong out of 1916. When compared with the accuracy of Random Forest which is 84.1%, it can be seen that Random Forest has a much higher accuracy when compared to Decision Tree. \n",
    "\n",
    "The classfier which I think performs better has to be Random Forest model. Although Random Forest combines multiple decision trees and has a higher training time when compared to Decision Tree, the accuracy is much higher than Decision Tree. At the end of the day the accuracy between the predicted and actual is always the most important since the lesser the errors the more realible the classfier is. In this case the one that has higher accuracy is Random Forest therefore, the one that performs better is Random Forest."
   ]
  },
  {
   "cell_type": "markdown",
   "id": "0f9a134c",
   "metadata": {},
   "source": [
    "# <u>Question 2</u>"
   ]
  },
  {
   "cell_type": "markdown",
   "id": "c3e6a88e",
   "metadata": {},
   "source": [
    "## Introduction"
   ]
  },
  {
   "cell_type": "markdown",
   "id": "66d4f578",
   "metadata": {},
   "source": [
    "### Part A"
   ]
  },
  {
   "cell_type": "markdown",
   "id": "232c0f9c",
   "metadata": {},
   "source": [
    "In this assignment there is 2 questions given, since this is question 2 I will be explaining on this question. In question 2 it is split into 4 different sub questions. Also the data set for this question is 'Customers-shop.csv'\n",
    "\n",
    "Sub question 1: Introduction\n",
    "This sub question contains 4 sub parts that require an introduction to be made, importing necessary libraries and creating plots that compare between variables and explain.\n",
    "\n",
    "Sub question 2: Supervised Learning\n",
    "For this sub question it is split into 2 sub parts which requires to seperate the features and label from the data set then use those seperate features and label to create a data set for training and testing.\n",
    "\n",
    "Sub question 3: Classification\n",
    "For this sub question it is split into 2 sub parts which contains questions like training a linear regression model, predicting using the testing data set and lastly reporting accuracy metrics.\n",
    "\n",
    "Sub question 4: Conclusion\n",
    "For this sub question it is only split into 1 sub parts and what's required is to conclude the question by stating which is more important and which is better for the company to put their efforts in."
   ]
  },
  {
   "cell_type": "markdown",
   "id": "d6f28abc",
   "metadata": {},
   "source": [
    "### Part B"
   ]
  },
  {
   "cell_type": "markdown",
   "id": "3696e745",
   "metadata": {},
   "source": [
    "In order for the assignment to be completed, the necessary libraries that are required to be imported are, pandas and matplotlib. The reason why importing libraries are neccesary when programming is because libraries are a vast collection of functions and methods which help perform different computational problems. For example pandas. pandas is a library which provides the user with data structure called DataFrame, this will be able to allow the user to manage and manipulate large tables. Another example of a necessary library is matplotlib. matplotlib is commonly used in Python to plot data, some examples include Histrograms, Bar Chart, Box Plot and many more.\n",
    "\n",
    "Another important library is numpy. It's usefull for arrays which will be used later in this question.\n",
    "Therefore, the first step is to import these libraries which is shown in the code below."
   ]
  },
  {
   "cell_type": "code",
   "execution_count": 28,
   "id": "eb40d79c",
   "metadata": {},
   "outputs": [],
   "source": [
    "import pandas as pd\n",
    "import matplotlib.pyplot as plt\n",
    "import numpy as np"
   ]
  },
  {
   "cell_type": "markdown",
   "id": "d3f4dc61",
   "metadata": {},
   "source": [
    "In order to read the dataset file 'Customers-shop.csv', we need to use the function pd.read_csv() which bascially does the function it says which is read the csv file."
   ]
  },
  {
   "cell_type": "code",
   "execution_count": 29,
   "id": "2d00021d",
   "metadata": {},
   "outputs": [],
   "source": [
    "customer_shop = pd.read_csv('Customers-shop.csv')"
   ]
  },
  {
   "cell_type": "markdown",
   "id": "721db302",
   "metadata": {},
   "source": [
    ".head() function is used to show the first 5 lines in the file 'Customers-shop.csv'"
   ]
  },
  {
   "cell_type": "code",
   "execution_count": 30,
   "id": "92505ab1",
   "metadata": {},
   "outputs": [
    {
     "data": {
      "text/html": [
       "<div>\n",
       "<style scoped>\n",
       "    .dataframe tbody tr th:only-of-type {\n",
       "        vertical-align: middle;\n",
       "    }\n",
       "\n",
       "    .dataframe tbody tr th {\n",
       "        vertical-align: top;\n",
       "    }\n",
       "\n",
       "    .dataframe thead th {\n",
       "        text-align: right;\n",
       "    }\n",
       "</style>\n",
       "<table border=\"1\" class=\"dataframe\">\n",
       "  <thead>\n",
       "    <tr style=\"text-align: right;\">\n",
       "      <th></th>\n",
       "      <th>Customer info-color Avatar</th>\n",
       "      <th>Avg. Session Length</th>\n",
       "      <th>Time on App</th>\n",
       "      <th>Time on Website</th>\n",
       "      <th>Length of Membership</th>\n",
       "      <th>Yearly Amount Spent</th>\n",
       "    </tr>\n",
       "  </thead>\n",
       "  <tbody>\n",
       "    <tr>\n",
       "      <th>0</th>\n",
       "      <td>Violet</td>\n",
       "      <td>34.497268</td>\n",
       "      <td>12.655651</td>\n",
       "      <td>39.577668</td>\n",
       "      <td>4.082621</td>\n",
       "      <td>587.951054</td>\n",
       "    </tr>\n",
       "    <tr>\n",
       "      <th>1</th>\n",
       "      <td>DarkGreen</td>\n",
       "      <td>31.926272</td>\n",
       "      <td>11.109461</td>\n",
       "      <td>37.268959</td>\n",
       "      <td>2.664034</td>\n",
       "      <td>392.204933</td>\n",
       "    </tr>\n",
       "    <tr>\n",
       "      <th>2</th>\n",
       "      <td>Bisque</td>\n",
       "      <td>33.000915</td>\n",
       "      <td>11.330278</td>\n",
       "      <td>37.110597</td>\n",
       "      <td>4.104543</td>\n",
       "      <td>487.547505</td>\n",
       "    </tr>\n",
       "    <tr>\n",
       "      <th>3</th>\n",
       "      <td>SaddleBrown</td>\n",
       "      <td>34.305557</td>\n",
       "      <td>13.717514</td>\n",
       "      <td>36.721283</td>\n",
       "      <td>3.120179</td>\n",
       "      <td>581.852344</td>\n",
       "    </tr>\n",
       "    <tr>\n",
       "      <th>4</th>\n",
       "      <td>MediumAquaMarine</td>\n",
       "      <td>33.330673</td>\n",
       "      <td>12.795189</td>\n",
       "      <td>37.536653</td>\n",
       "      <td>4.446308</td>\n",
       "      <td>599.406092</td>\n",
       "    </tr>\n",
       "  </tbody>\n",
       "</table>\n",
       "</div>"
      ],
      "text/plain": [
       "  Customer info-color Avatar  Avg. Session Length  Time on App  \\\n",
       "0                     Violet            34.497268    12.655651   \n",
       "1                  DarkGreen            31.926272    11.109461   \n",
       "2                     Bisque            33.000915    11.330278   \n",
       "3                SaddleBrown            34.305557    13.717514   \n",
       "4           MediumAquaMarine            33.330673    12.795189   \n",
       "\n",
       "   Time on Website  Length of Membership  Yearly Amount Spent  \n",
       "0        39.577668              4.082621           587.951054  \n",
       "1        37.268959              2.664034           392.204933  \n",
       "2        37.110597              4.104543           487.547505  \n",
       "3        36.721283              3.120179           581.852344  \n",
       "4        37.536653              4.446308           599.406092  "
      ]
     },
     "execution_count": 30,
     "metadata": {},
     "output_type": "execute_result"
    }
   ],
   "source": [
    "customer_shop.head()"
   ]
  },
  {
   "cell_type": "markdown",
   "id": "9e7ce6f4",
   "metadata": {},
   "source": [
    ".tail() function is used to show the last 5 lines in the file 'loan_data.csv'"
   ]
  },
  {
   "cell_type": "code",
   "execution_count": 31,
   "id": "acf95a02",
   "metadata": {},
   "outputs": [
    {
     "data": {
      "text/html": [
       "<div>\n",
       "<style scoped>\n",
       "    .dataframe tbody tr th:only-of-type {\n",
       "        vertical-align: middle;\n",
       "    }\n",
       "\n",
       "    .dataframe tbody tr th {\n",
       "        vertical-align: top;\n",
       "    }\n",
       "\n",
       "    .dataframe thead th {\n",
       "        text-align: right;\n",
       "    }\n",
       "</style>\n",
       "<table border=\"1\" class=\"dataframe\">\n",
       "  <thead>\n",
       "    <tr style=\"text-align: right;\">\n",
       "      <th></th>\n",
       "      <th>Customer info-color Avatar</th>\n",
       "      <th>Avg. Session Length</th>\n",
       "      <th>Time on App</th>\n",
       "      <th>Time on Website</th>\n",
       "      <th>Length of Membership</th>\n",
       "      <th>Yearly Amount Spent</th>\n",
       "    </tr>\n",
       "  </thead>\n",
       "  <tbody>\n",
       "    <tr>\n",
       "      <th>495</th>\n",
       "      <td>Tan</td>\n",
       "      <td>33.237660</td>\n",
       "      <td>13.566160</td>\n",
       "      <td>36.417985</td>\n",
       "      <td>3.746573</td>\n",
       "      <td>573.847438</td>\n",
       "    </tr>\n",
       "    <tr>\n",
       "      <th>496</th>\n",
       "      <td>PaleVioletRed</td>\n",
       "      <td>34.702529</td>\n",
       "      <td>11.695736</td>\n",
       "      <td>37.190268</td>\n",
       "      <td>3.576526</td>\n",
       "      <td>529.049004</td>\n",
       "    </tr>\n",
       "    <tr>\n",
       "      <th>497</th>\n",
       "      <td>Cornsilk</td>\n",
       "      <td>32.646777</td>\n",
       "      <td>11.499409</td>\n",
       "      <td>38.332576</td>\n",
       "      <td>4.958264</td>\n",
       "      <td>551.620146</td>\n",
       "    </tr>\n",
       "    <tr>\n",
       "      <th>498</th>\n",
       "      <td>Teal</td>\n",
       "      <td>33.322501</td>\n",
       "      <td>12.391423</td>\n",
       "      <td>36.840086</td>\n",
       "      <td>2.336485</td>\n",
       "      <td>456.469510</td>\n",
       "    </tr>\n",
       "    <tr>\n",
       "      <th>499</th>\n",
       "      <td>DarkMagenta</td>\n",
       "      <td>33.715981</td>\n",
       "      <td>12.418808</td>\n",
       "      <td>35.771016</td>\n",
       "      <td>2.735160</td>\n",
       "      <td>497.778642</td>\n",
       "    </tr>\n",
       "  </tbody>\n",
       "</table>\n",
       "</div>"
      ],
      "text/plain": [
       "    Customer info-color Avatar  Avg. Session Length  Time on App  \\\n",
       "495                        Tan            33.237660    13.566160   \n",
       "496              PaleVioletRed            34.702529    11.695736   \n",
       "497                   Cornsilk            32.646777    11.499409   \n",
       "498                       Teal            33.322501    12.391423   \n",
       "499                DarkMagenta            33.715981    12.418808   \n",
       "\n",
       "     Time on Website  Length of Membership  Yearly Amount Spent  \n",
       "495        36.417985              3.746573           573.847438  \n",
       "496        37.190268              3.576526           529.049004  \n",
       "497        38.332576              4.958264           551.620146  \n",
       "498        36.840086              2.336485           456.469510  \n",
       "499        35.771016              2.735160           497.778642  "
      ]
     },
     "execution_count": 31,
     "metadata": {},
     "output_type": "execute_result"
    }
   ],
   "source": [
    "customer_shop.tail()"
   ]
  },
  {
   "cell_type": "markdown",
   "id": "67524772",
   "metadata": {},
   "source": [
    "From the data read from using the function of head which reads the first 5 lines and tail which reads the last 5 lines. We can see that the trend in column Avg. Session Length which is the average session in store advice, normally last for 32 to 34 mins even if the customer avatar is different the session length is pretty similar. Another trend is the column Time on App, it has a average time of 11 to 12 despite the different color avatar. The trend for columns Time on Website, Length of Membership, and lastly the Yearly Amount Spent all have similar numbers for their respective category despite the color avatar of the customer being different. "
   ]
  },
  {
   "cell_type": "markdown",
   "id": "3a57fa93",
   "metadata": {},
   "source": [
    "### Part C"
   ]
  },
  {
   "cell_type": "markdown",
   "id": "3b8fd40f",
   "metadata": {},
   "source": [
    "For this question it asked for a scatter plot between Time on Website against Yearly Amount Spent\n",
    "\n",
    "What I did was import matplotlib.pyplot since it is responsible for making all different sorts of plots. In order for this code to work I needed to use plt.scatter() function which is what makes the scatter plot to compare between Time on website and Yearly Amount Spent. How the function works is firstly using the name you read the file with then [column name], name of the file[column name of 2nd] which after it can create a scatter plot from the two columns. Also I made the plot more spread out so I can work out what correlation there is between them. I also added labels although not requested "
   ]
  },
  {
   "cell_type": "code",
   "execution_count": 32,
   "id": "a0b11c27",
   "metadata": {},
   "outputs": [
    {
     "data": {
      "image/png": "[encoded data removed]",
      "text/plain": [
       "<Figure size 2160x1440 with 1 Axes>"
      ]
     },
     "metadata": {
      "needs_background": "light"
     },
     "output_type": "display_data"
    }
   ],
   "source": [
    "import pandas as pd\n",
    "import matplotlib.pyplot as plt\n",
    "customer_shop = pd.read_csv('Customers-shop.csv')\n",
    "plt.scatter(customer_shop['Time on Website'], customer_shop['Yearly Amount Spent'])\n",
    "plt.rcParams['figure.figsize'] = [30, 20]\n",
    "plt.title('Relationship between Time on Website and Yearly Amount Spent', fontsize=25)\n",
    "plt.xlabel('Time on Website', fontsize=25)\n",
    "plt.ylabel('Yearly Amount Spent', fontsize=25)\n",
    "plt.show()"
   ]
  },
  {
   "cell_type": "markdown",
   "id": "e8ab2d11",
   "metadata": {},
   "source": [
    "We can see in the scatter plot above, there is no correlation between Time on Website and Yearly Ammount Spend since there's no distinct relationship between the 2 variables. Now to answer the question for whether the correlation makes sense or not, the correlation doesn't make sense. Although it is true that a few minutes won't always necessary make a customer suddenly purchase more clothes. It is a known fact that the more a person stays on a website the more interested they are in the different products and the more time a customer spends on the website the more likey they will purchase more clothes. To defend my statement, let's give a scenario out for example let's say the person's avatar is blue and he spends 2 minutes in the website but he spends a lot of money and another customer let's say red spends 10 minutes and spends much lesser than blue it would be definetly odd if the more time spent the lesser items bought. Also another reason, even though the difference is only a couple of minutes, the graph should at least have a little positive correlation however in this case there's no correlation at all which is why I say it doesn't make sense"
   ]
  },
  {
   "cell_type": "markdown",
   "id": "261bde87",
   "metadata": {},
   "source": [
    "### Part D"
   ]
  },
  {
   "cell_type": "markdown",
   "id": "cef31c13",
   "metadata": {},
   "source": [
    "For this question, it asked us to create a scatter plot to compare betwwn the Time on App and Yearly Ammount spent and then compare the correlation with part c.\n",
    "\n",
    "Similar to Part C, what I did was import matplotlib.pyplot since it is responsible for making all different sorts of plots. In order for this code to work I needed to use plt.scatter() function which is what makes the scatter plot to compare between Time on App and Yearly Ammount spent. Also I made the plot more spread out so I can work out what correlation there is between them. I also added labels although not requested"
   ]
  },
  {
   "cell_type": "code",
   "execution_count": 33,
   "id": "685824e6",
   "metadata": {},
   "outputs": [
    {
     "data": {
      "image/png": "[encoded data removed]",
      "text/plain": [
       "<Figure size 2160x1440 with 1 Axes>"
      ]
     },
     "metadata": {
      "needs_background": "light"
     },
     "output_type": "display_data"
    }
   ],
   "source": [
    "import pandas as pd\n",
    "import matplotlib.pyplot as plt\n",
    "customer_shop = pd.read_csv('Customers-shop.csv')\n",
    "plt.scatter(customer_shop['Time on App'], customer_shop['Yearly Amount Spent'])\n",
    "plt.rcParams['figure.figsize'] = [30, 20]\n",
    "plt.title('Relationship between Time on App and Yearly Amount Spent', fontsize=25)\n",
    "plt.xlabel('Time on App', fontsize=25)\n",
    "plt.ylabel('Yearly Amount Spent', fontsize=25)\n",
    "plt.show()"
   ]
  },
  {
   "cell_type": "markdown",
   "id": "6bf67a59",
   "metadata": {},
   "source": [
    "Firstly before the comparison between the scatter plots of part c and part d, the correlation for this scatter plot is definetly positive correlation as the relationship can be found, which is more time spent on the app the more the ammount spend.\n",
    "\n",
    "Now comparring this scatter plot towards the plot in part c, we can fistly see that part D scatter plot has a positive correlation whist part C doesn't have one.\n",
    "When the scatter plot are compared side by side we can see that the Relationship between Time on App and Yearly Amount Spent is definetly in a positive correlation since the more time spent on the app the more yearly ammount is spent which follows the conditions of positive correlation. Whist for the relationship between Time on Website and Yearly Amount Spent is no correlation since the more time spent on the website doesn't change the yearly ammount spent very much which follows the conditions of no correlation due to no distinct relationship. This means that the more time spent on the app would produce higher yearly ammount spent while the more time spent in the website the yearly ammount would be the same. \n",
    "\n",
    "Following the question from part C, this scatter plot now makes sense since we can see that the lesser the time on app the less the yearly ammount spent which makes sense since in real like the more time you spend on a something the more you are to spend. Therefore, when comparing the correlation between this and part c, part D positive correlation makes more sense when compared to part c's no correlation"
   ]
  },
  {
   "cell_type": "markdown",
   "id": "33d04166",
   "metadata": {},
   "source": [
    "## Supervised Learning"
   ]
  },
  {
   "cell_type": "markdown",
   "id": "5011df46",
   "metadata": {},
   "source": [
    "### Part A"
   ]
  },
  {
   "cell_type": "code",
   "execution_count": 34,
   "id": "97c33a90",
   "metadata": {},
   "outputs": [
    {
     "data": {
      "text/html": [
       "<div>\n",
       "<style scoped>\n",
       "    .dataframe tbody tr th:only-of-type {\n",
       "        vertical-align: middle;\n",
       "    }\n",
       "\n",
       "    .dataframe tbody tr th {\n",
       "        vertical-align: top;\n",
       "    }\n",
       "\n",
       "    .dataframe thead th {\n",
       "        text-align: right;\n",
       "    }\n",
       "</style>\n",
       "<table border=\"1\" class=\"dataframe\">\n",
       "  <thead>\n",
       "    <tr style=\"text-align: right;\">\n",
       "      <th></th>\n",
       "      <th>Customer info-color Avatar</th>\n",
       "      <th>Avg. Session Length</th>\n",
       "      <th>Time on App</th>\n",
       "      <th>Time on Website</th>\n",
       "      <th>Length of Membership</th>\n",
       "      <th>Yearly Amount Spent</th>\n",
       "    </tr>\n",
       "  </thead>\n",
       "  <tbody>\n",
       "    <tr>\n",
       "      <th>0</th>\n",
       "      <td>Violet</td>\n",
       "      <td>34.497268</td>\n",
       "      <td>12.655651</td>\n",
       "      <td>39.577668</td>\n",
       "      <td>4.082621</td>\n",
       "      <td>587.951054</td>\n",
       "    </tr>\n",
       "    <tr>\n",
       "      <th>1</th>\n",
       "      <td>DarkGreen</td>\n",
       "      <td>31.926272</td>\n",
       "      <td>11.109461</td>\n",
       "      <td>37.268959</td>\n",
       "      <td>2.664034</td>\n",
       "      <td>392.204933</td>\n",
       "    </tr>\n",
       "    <tr>\n",
       "      <th>2</th>\n",
       "      <td>Bisque</td>\n",
       "      <td>33.000915</td>\n",
       "      <td>11.330278</td>\n",
       "      <td>37.110597</td>\n",
       "      <td>4.104543</td>\n",
       "      <td>487.547505</td>\n",
       "    </tr>\n",
       "    <tr>\n",
       "      <th>3</th>\n",
       "      <td>SaddleBrown</td>\n",
       "      <td>34.305557</td>\n",
       "      <td>13.717514</td>\n",
       "      <td>36.721283</td>\n",
       "      <td>3.120179</td>\n",
       "      <td>581.852344</td>\n",
       "    </tr>\n",
       "    <tr>\n",
       "      <th>4</th>\n",
       "      <td>MediumAquaMarine</td>\n",
       "      <td>33.330673</td>\n",
       "      <td>12.795189</td>\n",
       "      <td>37.536653</td>\n",
       "      <td>4.446308</td>\n",
       "      <td>599.406092</td>\n",
       "    </tr>\n",
       "    <tr>\n",
       "      <th>...</th>\n",
       "      <td>...</td>\n",
       "      <td>...</td>\n",
       "      <td>...</td>\n",
       "      <td>...</td>\n",
       "      <td>...</td>\n",
       "      <td>...</td>\n",
       "    </tr>\n",
       "    <tr>\n",
       "      <th>495</th>\n",
       "      <td>Tan</td>\n",
       "      <td>33.237660</td>\n",
       "      <td>13.566160</td>\n",
       "      <td>36.417985</td>\n",
       "      <td>3.746573</td>\n",
       "      <td>573.847438</td>\n",
       "    </tr>\n",
       "    <tr>\n",
       "      <th>496</th>\n",
       "      <td>PaleVioletRed</td>\n",
       "      <td>34.702529</td>\n",
       "      <td>11.695736</td>\n",
       "      <td>37.190268</td>\n",
       "      <td>3.576526</td>\n",
       "      <td>529.049004</td>\n",
       "    </tr>\n",
       "    <tr>\n",
       "      <th>497</th>\n",
       "      <td>Cornsilk</td>\n",
       "      <td>32.646777</td>\n",
       "      <td>11.499409</td>\n",
       "      <td>38.332576</td>\n",
       "      <td>4.958264</td>\n",
       "      <td>551.620146</td>\n",
       "    </tr>\n",
       "    <tr>\n",
       "      <th>498</th>\n",
       "      <td>Teal</td>\n",
       "      <td>33.322501</td>\n",
       "      <td>12.391423</td>\n",
       "      <td>36.840086</td>\n",
       "      <td>2.336485</td>\n",
       "      <td>456.469510</td>\n",
       "    </tr>\n",
       "    <tr>\n",
       "      <th>499</th>\n",
       "      <td>DarkMagenta</td>\n",
       "      <td>33.715981</td>\n",
       "      <td>12.418808</td>\n",
       "      <td>35.771016</td>\n",
       "      <td>2.735160</td>\n",
       "      <td>497.778642</td>\n",
       "    </tr>\n",
       "  </tbody>\n",
       "</table>\n",
       "<p>500 rows × 6 columns</p>\n",
       "</div>"
      ],
      "text/plain": [
       "    Customer info-color Avatar  Avg. Session Length  Time on App  \\\n",
       "0                       Violet            34.497268    12.655651   \n",
       "1                    DarkGreen            31.926272    11.109461   \n",
       "2                       Bisque            33.000915    11.330278   \n",
       "3                  SaddleBrown            34.305557    13.717514   \n",
       "4             MediumAquaMarine            33.330673    12.795189   \n",
       "..                         ...                  ...          ...   \n",
       "495                        Tan            33.237660    13.566160   \n",
       "496              PaleVioletRed            34.702529    11.695736   \n",
       "497                   Cornsilk            32.646777    11.499409   \n",
       "498                       Teal            33.322501    12.391423   \n",
       "499                DarkMagenta            33.715981    12.418808   \n",
       "\n",
       "     Time on Website  Length of Membership  Yearly Amount Spent  \n",
       "0          39.577668              4.082621           587.951054  \n",
       "1          37.268959              2.664034           392.204933  \n",
       "2          37.110597              4.104543           487.547505  \n",
       "3          36.721283              3.120179           581.852344  \n",
       "4          37.536653              4.446308           599.406092  \n",
       "..               ...                   ...                  ...  \n",
       "495        36.417985              3.746573           573.847438  \n",
       "496        37.190268              3.576526           529.049004  \n",
       "497        38.332576              4.958264           551.620146  \n",
       "498        36.840086              2.336485           456.469510  \n",
       "499        35.771016              2.735160           497.778642  \n",
       "\n",
       "[500 rows x 6 columns]"
      ]
     },
     "execution_count": 34,
     "metadata": {},
     "output_type": "execute_result"
    }
   ],
   "source": [
    "customer_shop"
   ]
  },
  {
   "cell_type": "markdown",
   "id": "1b7f4557",
   "metadata": {},
   "source": [
    "For this part, it asked for features and the label to be seperated and metion the label.\n",
    "\n",
    "For the features, it will be columns \"Time on App\" and \"Time on Website\". For the label it will be column \"Yearly Ammount Spent\".\n",
    "\n",
    "The reason for my choice of the features is because they are all independent variables and are used in determerning the Yearly Ammount Spent. The reason why I didn't choose the other 3 remaining columns \"Customer info-color Avatar\", Avg. Session Length and \"Length of Membership\" is because these three columns don't directly affect the Yearly Ammount Spent. Another issue also arises if I use column \"Customer info-color Avatar\" and that is the words don't work when calculating linear regression. Therefore there is only 2 labels which directly affect the yearly ammount spent.\n",
    "\n",
    "As for choosing column \"Yearly Ammount Spent\" as my label is because \"Yearly Ammount Spent\" is a dependent varible and all the features are used to predict the final choice which is the Yearly ammount spent by the customer."
   ]
  },
  {
   "cell_type": "markdown",
   "id": "285e4eab",
   "metadata": {},
   "source": [
    "### Part B"
   ]
  },
  {
   "cell_type": "markdown",
   "id": "a99d8d25",
   "metadata": {},
   "source": [
    "For this part, we have to use a certain function which is sklearn.linear_model.train_test_split to split the data into 70% training and 30% testing\n",
    "\n",
    "In order to do this I'll first need to check the head of customer_shop to check what the columns are called."
   ]
  },
  {
   "cell_type": "code",
   "execution_count": 35,
   "id": "e03331c2",
   "metadata": {},
   "outputs": [
    {
     "data": {
      "text/html": [
       "<div>\n",
       "<style scoped>\n",
       "    .dataframe tbody tr th:only-of-type {\n",
       "        vertical-align: middle;\n",
       "    }\n",
       "\n",
       "    .dataframe tbody tr th {\n",
       "        vertical-align: top;\n",
       "    }\n",
       "\n",
       "    .dataframe thead th {\n",
       "        text-align: right;\n",
       "    }\n",
       "</style>\n",
       "<table border=\"1\" class=\"dataframe\">\n",
       "  <thead>\n",
       "    <tr style=\"text-align: right;\">\n",
       "      <th></th>\n",
       "      <th>Customer info-color Avatar</th>\n",
       "      <th>Avg. Session Length</th>\n",
       "      <th>Time on App</th>\n",
       "      <th>Time on Website</th>\n",
       "      <th>Length of Membership</th>\n",
       "      <th>Yearly Amount Spent</th>\n",
       "    </tr>\n",
       "  </thead>\n",
       "  <tbody>\n",
       "    <tr>\n",
       "      <th>0</th>\n",
       "      <td>Violet</td>\n",
       "      <td>34.497268</td>\n",
       "      <td>12.655651</td>\n",
       "      <td>39.577668</td>\n",
       "      <td>4.082621</td>\n",
       "      <td>587.951054</td>\n",
       "    </tr>\n",
       "    <tr>\n",
       "      <th>1</th>\n",
       "      <td>DarkGreen</td>\n",
       "      <td>31.926272</td>\n",
       "      <td>11.109461</td>\n",
       "      <td>37.268959</td>\n",
       "      <td>2.664034</td>\n",
       "      <td>392.204933</td>\n",
       "    </tr>\n",
       "    <tr>\n",
       "      <th>2</th>\n",
       "      <td>Bisque</td>\n",
       "      <td>33.000915</td>\n",
       "      <td>11.330278</td>\n",
       "      <td>37.110597</td>\n",
       "      <td>4.104543</td>\n",
       "      <td>487.547505</td>\n",
       "    </tr>\n",
       "    <tr>\n",
       "      <th>3</th>\n",
       "      <td>SaddleBrown</td>\n",
       "      <td>34.305557</td>\n",
       "      <td>13.717514</td>\n",
       "      <td>36.721283</td>\n",
       "      <td>3.120179</td>\n",
       "      <td>581.852344</td>\n",
       "    </tr>\n",
       "    <tr>\n",
       "      <th>4</th>\n",
       "      <td>MediumAquaMarine</td>\n",
       "      <td>33.330673</td>\n",
       "      <td>12.795189</td>\n",
       "      <td>37.536653</td>\n",
       "      <td>4.446308</td>\n",
       "      <td>599.406092</td>\n",
       "    </tr>\n",
       "  </tbody>\n",
       "</table>\n",
       "</div>"
      ],
      "text/plain": [
       "  Customer info-color Avatar  Avg. Session Length  Time on App  \\\n",
       "0                     Violet            34.497268    12.655651   \n",
       "1                  DarkGreen            31.926272    11.109461   \n",
       "2                     Bisque            33.000915    11.330278   \n",
       "3                SaddleBrown            34.305557    13.717514   \n",
       "4           MediumAquaMarine            33.330673    12.795189   \n",
       "\n",
       "   Time on Website  Length of Membership  Yearly Amount Spent  \n",
       "0        39.577668              4.082621           587.951054  \n",
       "1        37.268959              2.664034           392.204933  \n",
       "2        37.110597              4.104543           487.547505  \n",
       "3        36.721283              3.120179           581.852344  \n",
       "4        37.536653              4.446308           599.406092  "
      ]
     },
     "execution_count": 35,
     "metadata": {},
     "output_type": "execute_result"
    }
   ],
   "source": [
    "import pandas as pd\n",
    "import matplotlib.pyplot as plt\n",
    "\n",
    "customer_shop = pd.read_csv('Customers-shop.csv')\n",
    "customer_shop.head()"
   ]
  },
  {
   "cell_type": "markdown",
   "id": "34580d16",
   "metadata": {},
   "source": [
    "Now in order for the train_test_split to work we need to split the data into 2 different data X for the features and y for the labels data."
   ]
  },
  {
   "cell_type": "code",
   "execution_count": 36,
   "id": "976b3167",
   "metadata": {},
   "outputs": [],
   "source": [
    "X = customer_shop.iloc[:, [2,3]].values \n",
    "y = customer_shop.iloc[:, 5].values"
   ]
  },
  {
   "cell_type": "markdown",
   "id": "86674851",
   "metadata": {},
   "source": [
    "To test out whether the split dataset has worked I tested it for the first 5 rows for both X and y"
   ]
  },
  {
   "cell_type": "code",
   "execution_count": 37,
   "id": "845d75b7",
   "metadata": {},
   "outputs": [
    {
     "data": {
      "text/plain": [
       "array([[12.65565115, 39.57766802],\n",
       "       [11.10946073, 37.26895887],\n",
       "       [11.33027806, 37.11059744],\n",
       "       [13.71751367, 36.72128268],\n",
       "       [12.79518855, 37.5366533 ]])"
      ]
     },
     "execution_count": 37,
     "metadata": {},
     "output_type": "execute_result"
    }
   ],
   "source": [
    "X[0:5]"
   ]
  },
  {
   "cell_type": "code",
   "execution_count": 38,
   "id": "c11736bf",
   "metadata": {},
   "outputs": [
    {
     "data": {
      "text/plain": [
       "array([587.951054 , 392.2049334, 487.5475049, 581.852344 , 599.406092 ])"
      ]
     },
     "execution_count": 38,
     "metadata": {},
     "output_type": "execute_result"
    }
   ],
   "source": [
    "y[0:5]"
   ]
  },
  {
   "cell_type": "markdown",
   "id": "3578e566",
   "metadata": {},
   "source": [
    "Now to answer what the question requested, I used the sklearn.model_seelction.train_test_split function as seen below to split the data into 70% for training and 30% for testing. This can be seen in the code below where the test_size is 0.3 which means 30% and random_state = 0 which is used so that the values in the new datasets for training and testing stays the same or otherwise the values each time will be different when the traning dataset is made."
   ]
  },
  {
   "cell_type": "code",
   "execution_count": 39,
   "id": "4547c072",
   "metadata": {},
   "outputs": [],
   "source": [
    "from sklearn.model_selection import train_test_split\n",
    "X_train, X_test, y_train, y_test = train_test_split(\n",
    "    X, y, test_size = 0.3, random_state = 0\n",
    ")"
   ]
  },
  {
   "cell_type": "markdown",
   "id": "52697dc8",
   "metadata": {},
   "source": [
    "## Regression"
   ]
  },
  {
   "cell_type": "markdown",
   "id": "f9d7e2bd",
   "metadata": {},
   "source": [
    "### Part A"
   ]
  },
  {
   "cell_type": "markdown",
   "id": "30ad3002",
   "metadata": {},
   "source": [
    "For this part, the question requested to train a linear regression model using sklearn.linear_model import LinearRegression and then report the coefficients of the regression model.\n",
    "\n",
    "Firstly before we can find the cofficients we have to start by implementing the function sklearn.linear_model import LinearRegression which is important to train a linear regression. In this case I decided to choose simple linear regression as there is only 2 variables. After that I instantiated LinearRegression() to regressor then lastly call the fit method which is required to train the data. The code is shown below"
   ]
  },
  {
   "cell_type": "code",
   "execution_count": 40,
   "id": "fe72ccae",
   "metadata": {},
   "outputs": [
    {
     "data": {
      "text/plain": [
       "LinearRegression()"
      ]
     },
     "execution_count": 40,
     "metadata": {},
     "output_type": "execute_result"
    }
   ],
   "source": [
    "import pandas as pd\n",
    "import matplotlib.pyplot as plt\n",
    "import numpy as np\n",
    "\n",
    "customer_shop = pd.read_csv('Customers-shop.csv')\n",
    "X = customer_shop.iloc[:, [2,3]].values \n",
    "y = customer_shop.iloc[:, 5].values \n",
    "\n",
    "from sklearn.model_selection import train_test_split\n",
    "X_train, X_test, y_train, y_test = train_test_split(\n",
    "    X, y, test_size = 0.3, random_state = 0\n",
    ")\n",
    "\n",
    "from sklearn.linear_model import LinearRegression\n",
    "regressor = LinearRegression()\n",
    "regressor.fit(X_train, y_train)"
   ]
  },
  {
   "cell_type": "markdown",
   "id": "2012bdeb",
   "metadata": {},
   "source": [
    "Now to get the coefficients of the regression model, I just simply used regressor.coef_ to show the different Coefficient for each column for the feature listed earlier."
   ]
  },
  {
   "cell_type": "code",
   "execution_count": 41,
   "id": "7be3247e",
   "metadata": {},
   "outputs": [
    {
     "name": "stdout",
     "output_type": "stream",
     "text": [
      "[39.49838271 -4.39767356]\n"
     ]
    }
   ],
   "source": [
    "print(regressor.coef_)"
   ]
  },
  {
   "cell_type": "markdown",
   "id": "d5729566",
   "metadata": {},
   "source": [
    "According to the result above, we can see that\n",
    "\n",
    "The first coefficient value in the array is Time on App. Time on App has a Coefficient Value of = 39.49838271 When converted to percentage it is 39.50%\n",
    "\n",
    "The first coefficient value in the array is Time on Website. Time on Website has a Coefficient Value of = -4.39767356 When converted to percentage it is -4.40%"
   ]
  },
  {
   "cell_type": "markdown",
   "id": "2267a372",
   "metadata": {},
   "source": [
    "### Part B"
   ]
  },
  {
   "cell_type": "markdown",
   "id": "03232ed6",
   "metadata": {},
   "source": [
    "For this part, it is split into 2 different sub part questions.\n",
    "\n",
    "For the first sub part question, it asked to test the data set testing from the train_test_split function earlier and conduct the prediction for the column 'Yearly Amount Spent'. \n",
    "\n",
    "For the second sub part question, it asked to report the accuracy of the metrics.\n",
    "\n",
    "To answer the first question, firstly before we can even make the prediction for the \"Yearly Amount Spent\", we have to excute the code \"y_pred = regressor.predict(X_test)\" which is necessary so that the y_pred now contains all the predicted values and input from the testing data set for X_test. The code is shown below"
   ]
  },
  {
   "cell_type": "code",
   "execution_count": 42,
   "id": "1d851cf5",
   "metadata": {},
   "outputs": [],
   "source": [
    "y_pred = regressor.predict(X_test)"
   ]
  },
  {
   "cell_type": "markdown",
   "id": "ca9751a9",
   "metadata": {},
   "source": [
    "After we've succesfully transfered the X_test into y_pred, we can now compare the actual outputs against the predicted values.\n",
    "\n",
    "The code to show this comparison is just a simple pd.Dataframe() which can show the values of the actual values against the predicted values. This is shown in the code below."
   ]
  },
  {
   "cell_type": "code",
   "execution_count": 43,
   "id": "196ce6de",
   "metadata": {},
   "outputs": [
    {
     "data": {
      "text/html": [
       "<div>\n",
       "<style scoped>\n",
       "    .dataframe tbody tr th:only-of-type {\n",
       "        vertical-align: middle;\n",
       "    }\n",
       "\n",
       "    .dataframe tbody tr th {\n",
       "        vertical-align: top;\n",
       "    }\n",
       "\n",
       "    .dataframe thead th {\n",
       "        text-align: right;\n",
       "    }\n",
       "</style>\n",
       "<table border=\"1\" class=\"dataframe\">\n",
       "  <thead>\n",
       "    <tr style=\"text-align: right;\">\n",
       "      <th></th>\n",
       "      <th>Actual</th>\n",
       "      <th>Predicted</th>\n",
       "    </tr>\n",
       "  </thead>\n",
       "  <tbody>\n",
       "    <tr>\n",
       "      <th>0</th>\n",
       "      <td>449.070319</td>\n",
       "      <td>516.415099</td>\n",
       "    </tr>\n",
       "    <tr>\n",
       "      <th>1</th>\n",
       "      <td>482.602467</td>\n",
       "      <td>513.637927</td>\n",
       "    </tr>\n",
       "    <tr>\n",
       "      <th>2</th>\n",
       "      <td>374.269675</td>\n",
       "      <td>484.086224</td>\n",
       "    </tr>\n",
       "    <tr>\n",
       "      <th>3</th>\n",
       "      <td>513.153112</td>\n",
       "      <td>494.776787</td>\n",
       "    </tr>\n",
       "    <tr>\n",
       "      <th>4</th>\n",
       "      <td>502.771075</td>\n",
       "      <td>482.146959</td>\n",
       "    </tr>\n",
       "    <tr>\n",
       "      <th>...</th>\n",
       "      <td>...</td>\n",
       "      <td>...</td>\n",
       "    </tr>\n",
       "    <tr>\n",
       "      <th>145</th>\n",
       "      <td>599.406092</td>\n",
       "      <td>528.364404</td>\n",
       "    </tr>\n",
       "    <tr>\n",
       "      <th>146</th>\n",
       "      <td>564.790969</td>\n",
       "      <td>565.549777</td>\n",
       "    </tr>\n",
       "    <tr>\n",
       "      <th>147</th>\n",
       "      <td>533.040060</td>\n",
       "      <td>536.550737</td>\n",
       "    </tr>\n",
       "    <tr>\n",
       "      <th>148</th>\n",
       "      <td>409.070472</td>\n",
       "      <td>464.731392</td>\n",
       "    </tr>\n",
       "    <tr>\n",
       "      <th>149</th>\n",
       "      <td>637.102448</td>\n",
       "      <td>511.475144</td>\n",
       "    </tr>\n",
       "  </tbody>\n",
       "</table>\n",
       "<p>150 rows × 2 columns</p>\n",
       "</div>"
      ],
      "text/plain": [
       "         Actual   Predicted\n",
       "0    449.070319  516.415099\n",
       "1    482.602467  513.637927\n",
       "2    374.269675  484.086224\n",
       "3    513.153112  494.776787\n",
       "4    502.771075  482.146959\n",
       "..          ...         ...\n",
       "145  599.406092  528.364404\n",
       "146  564.790969  565.549777\n",
       "147  533.040060  536.550737\n",
       "148  409.070472  464.731392\n",
       "149  637.102448  511.475144\n",
       "\n",
       "[150 rows x 2 columns]"
      ]
     },
     "execution_count": 43,
     "metadata": {},
     "output_type": "execute_result"
    }
   ],
   "source": [
    "prediction = pd.DataFrame({'Actual': y_test, 'Predicted': y_pred})\n",
    "prediction"
   ]
  },
  {
   "cell_type": "markdown",
   "id": "a9610fc1",
   "metadata": {},
   "source": [
    "From the prediction table above, we can see that the predicted Yearly Ammount Spent values are not exactly the same as the Actual Yearly Ammount Spent values however they are close to the Actual Ammount Spent values."
   ]
  },
  {
   "cell_type": "markdown",
   "id": "86e18a1f",
   "metadata": {},
   "source": [
    "After we've gotten the prediction we can move onto the second sub part question which is to report the accuracy metrics.\n",
    "\n",
    "For this question, it asked to report the accuracy metrics. Firstly before we write the code to show the accuracy metrics, we have to know what are the different accuracy metrics and what they stand for. \n",
    "\n",
    "There are 3 accuracy metrics commonly used for regression algorithims.\n",
    "The first is MAE which stands for Mean Absolute Error and is calculated by the mean of the absolute value of the errors, the second is MSE which stands for Mean Squared Error and is calculated by the mean of the squared errors and lastly RMSE which stands for Root Mean Squared Error which is calculated by the square root of the mean of the squared errors.\n",
    "\n",
    "Now to calculate the accuracy metrics for the 3 written above what I used was the library Scikit-Learn which can help since there's a function that can help calculate metrics. The code to import is \"from sklearn import metrics\" and after that I used the function \"metrics.mean_absolute_error()\" to calculate the MAE, \"metrics.mean_squared_error()\" to calculate MSE and \"np.sqrt(metrics.mean_squared_error())\" to calculate RMSE. Also the reason why np.sqrt is used is because square root is needed to calculate RMSE.\n",
    "\n",
    "The code for this is shown below."
   ]
  },
  {
   "cell_type": "code",
   "execution_count": 44,
   "id": "78f53047",
   "metadata": {},
   "outputs": [
    {
     "name": "stdout",
     "output_type": "stream",
     "text": [
      "Mean Absolute Error: 53.62873660500671\n",
      "Mean Squared Error: 4654.4280201941965\n",
      "Root Mean Squared Error: 68.22336857847314\n"
     ]
    }
   ],
   "source": [
    "from sklearn import metrics\n",
    "print('Mean Absolute Error:', metrics.mean_absolute_error(y_test, y_pred))\n",
    "print('Mean Squared Error:', metrics.mean_squared_error(y_test, y_pred))\n",
    "print('Root Mean Squared Error:', np.sqrt(metrics.mean_squared_error(y_test, y_pred)))"
   ]
  },
  {
   "cell_type": "markdown",
   "id": "026a3cd7",
   "metadata": {},
   "source": [
    "From the calculated accuracy metrics shown above, we can see that the first accuracy metrics Mean Absolute Error is 53.62873660500671 and the second accuracy metrics Mean Squared Error is 4654.4280201941965 and lastly the last accuracy metrics is Root Mean Squared Error with 68.22336857847314.\n",
    "\n",
    "From the results we can conclude that the root mean squared error is 21.39% more than the Mean value of Yearly Ammount Spent. This means that the algorithim I created is not so accurate. However, it can still make decently good predictions for the Yearly Ammount Spent."
   ]
  },
  {
   "cell_type": "markdown",
   "id": "c8f51d16",
   "metadata": {},
   "source": [
    "### Reference links used for this Part B\n",
    "\n",
    "Undertanding what are the 3 different accuracy metrics for linear regression<br>\n",
    "https://stackabuse.com/linear-regression-in-python-with-scikit-learn/\n",
    "\n",
    "All of the links above, they were all used in helping me gather information about the question and where I paraphased from"
   ]
  },
  {
   "cell_type": "markdown",
   "id": "19c2d5ea",
   "metadata": {},
   "source": [
    "## Conclusion"
   ]
  },
  {
   "cell_type": "markdown",
   "id": "410815a8",
   "metadata": {},
   "source": [
    "### Part A"
   ]
  },
  {
   "cell_type": "code",
   "execution_count": 45,
   "id": "8bed7d7b",
   "metadata": {},
   "outputs": [
    {
     "name": "stdout",
     "output_type": "stream",
     "text": [
      "[39.49838271 -4.39767356]\n"
     ]
    }
   ],
   "source": [
    "print(regressor.coef_)"
   ]
  },
  {
   "cell_type": "markdown",
   "id": "3a0ce4f8",
   "metadata": {},
   "source": [
    "For this part, the question asked to conclude the assignment by stating which variable is more important for increasing the Yearly Ammount Spent and which is better for the company to focus their efforts on. \n",
    "\n",
    "The variable that are more important for increasing the Yearly Ammount Spent is Time on App as seen in the output of the code above, we can see that the highest coefficient is Time on App with a percentage of 39.50%%. How I came to such a conclusion is through looking at the coefficient outputs of the other variable. As shown in the output, the most worst possible varible for Yearly Ammount spent is variable Time on Website as there's a negative 4.40% which means that if I was to choose this varible to increasethe Yearly Ammount Spent, I would actually be doing the opposite and instead decreasing the Yearly Ammount spent. Therefore, there's only one coefficent to choose which will be Time on App as it has the highest coefficent is more important for the Yearly Ammount Spent.\n",
    "\n",
    "Therefore, it is better for the company to focus their efforts on their website experience. The reason I made this  choice is because the reason why customers aren't spending more money yearly for website is because the experience there might not be as good as on app therefore if the company focuses more on their website and make it just as attractive and well made as the App, so instead of losing customer yearly ammount spent for the time they are on the website it could be changed where it has a postive coefficient and can help benefit the company."
   ]
  },
  {
   "cell_type": "markdown",
   "id": "85af67e0",
   "metadata": {},
   "source": [
    "# General Conclusion for Assignment 2"
   ]
  },
  {
   "cell_type": "markdown",
   "id": "3faca9b6",
   "metadata": {},
   "source": [
    "Overall, for this assignment I've learnt many new things I previously haven't known about or what to implement the code with. I've learnt the skill of spliting the dataset into training and testing and then from there create a prediction of the testing data then using the prediction to calculate the accuracy of either the classfiers or regression. I've also learnt how to experince independent model evaulation when reporting the metrics.\n",
    "\n",
    "In conclusion, I would call this Assignment as a success since I successfully got the objective of the assignment and also towards myself learning more about how machine learning works as well as building many different types of models, got the results to be independently evaluated and being able to implement the new found knowledge into questions. "
   ]
  },
  {
   "cell_type": "code",
   "execution_count": null,
   "id": "8a8f24af",
   "metadata": {},
   "outputs": [],
   "source": []
  }
 ],
 "metadata": {
  "kernelspec": {
   "display_name": "Python 3",
   "language": "python",
   "name": "python3"
  },
  "language_info": {
   "codemirror_mode": {
    "name": "ipython",
    "version": 3
   },
   "file_extension": ".py",
   "mimetype": "text/x-python",
   "name": "python",
   "nbconvert_exporter": "python",
   "pygments_lexer": "ipython3",
   "version": "3.8.8"
  }
 },
 "nbformat": 4,
 "nbformat_minor": 5
}
